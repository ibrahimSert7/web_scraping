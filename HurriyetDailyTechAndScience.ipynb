{
  "nbformat": 4,
  "nbformat_minor": 0,
  "metadata": {
    "colab": {
      "name": "HurriyetDailyTechAndScience.ipynb",
      "provenance": [],
      "collapsed_sections": [],
      "include_colab_link": true
    },
    "kernelspec": {
      "name": "python3",
      "display_name": "Python 3"
    },
    "language_info": {
      "name": "python"
    }
  },
  "cells": [
    {
      "cell_type": "markdown",
      "metadata": {
        "id": "view-in-github",
        "colab_type": "text"
      },
      "source": [
        "<a href=\"https://colab.research.google.com/github/ibrahimSert7/web_scraping/blob/main/HurriyetDailyTechAndScience.ipynb\" target=\"_parent\"><img src=\"https://colab.research.google.com/assets/colab-badge.svg\" alt=\"Open In Colab\"/></a>"
      ]
    },
    {
      "cell_type": "code",
      "execution_count": 115,
      "metadata": {
        "id": "vTi8_gmKBOSM"
      },
      "outputs": [],
      "source": [
        "import os\n",
        "import re\n",
        "import bs4\n",
        "import requests\n",
        "from bs4 import BeautifulSoup\n",
        "import pandas as pd\n",
        "import numpy as np\n",
        "import os\n",
        "import time\n",
        "import urllib.request\n",
        "import re\n",
        "import urllib3\n",
        "from pandas import DataFrame\n",
        "import csv\n",
        "import datetime\n",
        "from datetime import datetime, timedelta\n",
        "import os\n",
        "import csv\n",
        "import concurrent\n",
        "import multiprocessing\n",
        "from multiprocessing import pool\n",
        "import io\n",
        "from pprint import pprint"
      ]
    },
    {
      "cell_type": "code",
      "source": [
        "technology_page_link = []\n",
        "science_page_link = []"
      ],
      "metadata": {
        "id": "lxyriB9xBkpz"
      },
      "execution_count": 116,
      "outputs": []
    },
    {
      "cell_type": "code",
      "source": [
        "def date_creator():\n",
        "  for i in range(1,51):\n",
        "    lnk = \"https://www.hurriyetdailynews.com/search/science?p={}\".format(str(i))\n",
        "    science_page_link.append(lnk)\n",
        "  for i in range(1,21):\n",
        "    lnk = \"https://www.hurriyetdailynews.com/search/technology?p={}\".format(str(i))\n",
        "    technology_page_link.append(lnk)"
      ],
      "metadata": {
        "id": "g_EMwnEmBlqb"
      },
      "execution_count": 117,
      "outputs": []
    },
    {
      "cell_type": "code",
      "source": [
        "date_creator()"
      ],
      "metadata": {
        "id": "wSHVLNHpCqvC"
      },
      "execution_count": 118,
      "outputs": []
    },
    {
      "cell_type": "code",
      "source": [
        "toplam_science = 0\n",
        "toplam_tech = 0"
      ],
      "metadata": {
        "id": "fM0ly1vzlnHw"
      },
      "execution_count": 119,
      "outputs": []
    },
    {
      "cell_type": "code",
      "source": [
        "def technology_get_link_creator(url):\n",
        "  html = requests.get(url).content      \n",
        "  soup = BeautifulSoup(html,\"html.parser\")\n",
        "  link_list = soup.find_all(\"div\",{\"class\" : \"col-md-4 col-sm-4\"})\n",
        "  for i in link_list:\n",
        "    href = i.find(\"a\").get(\"href\")\n",
        "    if href.startswith(\"https://www.hurriyetdailynews.com\"):\n",
        "      pass\n",
        "    else:\n",
        "      href = \"https://www.hurriyetdailynews.com\"+href\n",
        "      with open(\"daily_hürriyet_technology_Links.txt\",\"a\",encoding=\"utf-8\") as file :\n",
        "        file.write(href+\"\\n\")"
      ],
      "metadata": {
        "id": "o_C2-ocEDKgk"
      },
      "execution_count": 120,
      "outputs": []
    },
    {
      "cell_type": "code",
      "source": [
        "def science_get_link_creator(url):\n",
        "  html = requests.get(url).content \n",
        "  soup = BeautifulSoup(html,\"html.parser\")\n",
        "  link_list = soup.find_all(\"div\",{\"class\" : \"col-md-4 col-sm-4\"})\n",
        "  for i in link_list:\n",
        "    href = i.find(\"a\").get(\"href\")\n",
        "    if href.startswith(\"https://www.hurriyetdailynews.com\"):\n",
        "      pass\n",
        "    else:\n",
        "      href = \"https://www.hurriyetdailynews.com\"+href\n",
        "      with open(\"daily_hürriyet_science_Links.txt\",\"a\",encoding=\"utf-8\") as file :\n",
        "        file.write(href+\"\\n\")"
      ],
      "metadata": {
        "id": "p9Q1mqDuGQXn"
      },
      "execution_count": 121,
      "outputs": []
    },
    {
      "cell_type": "code",
      "source": [
        "import concurrent\n",
        "t1=time.time()\n",
        "with concurrent.futures.ProcessPoolExecutor() as execut:\n",
        "  b_res=[execut.submit(science_get_link_creator,i.strip()) for i in science_page_link]\n",
        "print(time.time()-t1)\n",
        "\n",
        "t2=time.time()\n",
        "with concurrent.futures.ProcessPoolExecutor() as execut:\n",
        "  b_res=[execut.submit(technology_get_link_creator,i.strip()) for i in technology_page_link]\n",
        "print(time.time()-t2)"
      ],
      "metadata": {
        "id": "0O94E6vYGeeY",
        "colab": {
          "base_uri": "https://localhost:8080/"
        },
        "outputId": "3c28d5ee-efe8-42b5-bc1f-999d2306ffae"
      },
      "execution_count": 122,
      "outputs": [
        {
          "output_type": "stream",
          "name": "stdout",
          "text": [
            "35.25558352470398\n",
            "13.011473655700684\n"
          ]
        }
      ]
    },
    {
      "cell_type": "code",
      "source": [
        "import datetime"
      ],
      "metadata": {
        "id": "RNc5Y9wEVO6S"
      },
      "execution_count": 123,
      "outputs": []
    },
    {
      "cell_type": "code",
      "source": [
        "def creator_tech(url):\n",
        "    r = requests.get(url)   \n",
        "    soup = BeautifulSoup(r.content, 'html5lib')\n",
        "    title = soup.find(\"h1\").getText()\n",
        "    content_array = soup.find(\"div\", attrs = {\"class\":\"content\"}).getText()\n",
        "    category = \"tech\"\n",
        "    date = soup.find(\"li\", attrs = {\"class\":\"date\"}).getText()\n",
        "    date = date.split()\n",
        "    date = date[0] +\"-\"+ date[1] +\"-\"+ date[2]\n",
        "    date = datetime.datetime.strptime(date,\"%B-%d-%Y\").strftime(\"%Y-%m-%d\")\n",
        "    content_array = content_array.split()\n",
        "    content_string = \"\"\n",
        "    for w in content_array:\n",
        "      content_string = content_string +\" \" + w\n",
        "    w_data=\"{};{};{};{};{}\".format(url,date,category,title,content_string)\n",
        "    with open(\"contentAll2.txt\", 'a') as file: \n",
        "        file.write(w_data+'\\n')"
      ],
      "metadata": {
        "id": "OV6Ta-cMjW0B"
      },
      "execution_count": 124,
      "outputs": []
    },
    {
      "cell_type": "code",
      "source": [
        "def creator_science(url):\n",
        "    r = requests.get(url)   \n",
        "    soup = BeautifulSoup(r.content, 'html5lib')\n",
        "    title = soup.find(\"h1\").getText()\n",
        "    content_array = soup.find(\"div\", attrs = {\"class\":\"content\"}).getText()\n",
        "    category = \"science\"\n",
        "    date = soup.find(\"li\", attrs = {\"class\":\"date\"}).getText()\n",
        "    date = date.split()\n",
        "    date = date[0] +\"-\"+ date[1] +\"-\"+ date[2]\n",
        "    date = datetime.datetime.strptime(date,\"%B-%d-%Y\").strftime(\"%Y-%m-%d\")\n",
        "    content_array = content_array.split()\n",
        "    content_string = \"\"\n",
        "    for w in content_array:\n",
        "      content_string = content_string +\" \" + w\n",
        "    w_data=\"{};{};{};{};{}\".format(url,date,category,title,content_string)\n",
        "    with open(\"contentAll2.txt\", 'a') as file: \n",
        "        file.write(w_data+'\\n')"
      ],
      "metadata": {
        "id": "b6H6Fo-7jWvP"
      },
      "execution_count": 125,
      "outputs": []
    },
    {
      "cell_type": "code",
      "source": [
        "HurriyetScience=[]\n",
        "with open(\"/content/daily_hürriyet_science_Links.txt\",'r',newline='') as f:\n",
        "  for i in f.readlines():    \n",
        "    HurriyetScience.append(i)\n",
        "\n",
        "t1=time.time()\n",
        "with concurrent.futures.ProcessPoolExecutor() as execut:\n",
        "  b_res=[execut.submit(creator_science,i.strip()) for i in HurriyetScience]\n",
        "\n",
        "print(time.time()-t1)\n",
        "\n",
        "\n",
        "HurriyetTech=[]\n",
        "with open(\"/content/daily_hürriyet_technology_Links.txt\",'r',newline='') as f:\n",
        "  for i in f.readlines():    \n",
        "    HurriyetTech.append(i)\n",
        "\n",
        "t1=time.time()\n",
        "with concurrent.futures.ProcessPoolExecutor() as execut:\n",
        "  b_res=[execut.submit(creator_tech,i.strip()) for i in HurriyetTech]\n",
        "\n",
        "print(time.time()-t1)"
      ],
      "metadata": {
        "colab": {
          "base_uri": "https://localhost:8080/"
        },
        "id": "gejCOOwHS6IB",
        "outputId": "b8f8675f-4516-4c99-d089-c612d64012f2"
      },
      "execution_count": 126,
      "outputs": [
        {
          "output_type": "stream",
          "name": "stdout",
          "text": [
            "1628.2908818721771\n",
            "609.0803329944611\n"
          ]
        }
      ]
    },
    {
      "cell_type": "code",
      "source": [
        ""
      ],
      "metadata": {
        "id": "n1Mt62npS6EL"
      },
      "execution_count": 126,
      "outputs": []
    }
  ]
}