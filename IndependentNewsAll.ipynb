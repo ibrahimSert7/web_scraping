{
  "nbformat": 4,
  "nbformat_minor": 0,
  "metadata": {
    "colab": {
      "name": "IndependentNewsAll.ipynb",
      "provenance": [],
      "collapsed_sections": [],
      "authorship_tag": "ABX9TyP7UL/LoXc8jz9Cjpoz/7f9",
      "include_colab_link": true
    },
    "kernelspec": {
      "name": "python3",
      "display_name": "Python 3"
    },
    "language_info": {
      "name": "python"
    }
  },
  "cells": [
    {
      "cell_type": "markdown",
      "metadata": {
        "id": "view-in-github",
        "colab_type": "text"
      },
      "source": [
        "<a href=\"https://colab.research.google.com/github/ibrahimSert7/web_scraping/blob/main/IndependentNewsAll.ipynb\" target=\"_parent\"><img src=\"https://colab.research.google.com/assets/colab-badge.svg\" alt=\"Open In Colab\"/></a>"
      ]
    },
    {
      "cell_type": "code",
      "source": [
        "from google.colab import drive\n",
        "drive.mount('/content/drive')"
      ],
      "metadata": {
        "id": "TzkkvUzO6B3P",
        "colab": {
          "base_uri": "https://localhost:8080/"
        },
        "outputId": "54668a55-0cbb-4452-e2fe-909940feec89"
      },
      "execution_count": null,
      "outputs": [
        {
          "output_type": "stream",
          "name": "stdout",
          "text": [
            "Drive already mounted at /content/drive; to attempt to forcibly remount, call drive.mount(\"/content/drive\", force_remount=True).\n"
          ]
        }
      ]
    },
    {
      "cell_type": "code",
      "execution_count": null,
      "metadata": {
        "id": "pTHQhF4qVgIq"
      },
      "outputs": [],
      "source": [
        "import os\n",
        "import bs4\n",
        "import bs4 as soup\n",
        "import requests\n",
        "from bs4 import BeautifulSoup\n",
        "import pandas as pd\n",
        "import numpy as np\n",
        "import os\n",
        "import time\n",
        "import urllib.request\n",
        "import re\n",
        "import urllib3\n",
        "from pandas import DataFrame\n",
        "import csv\n",
        "import datetime\n",
        "from datetime import datetime, timedelta\n",
        "import os\n",
        "import csv\n",
        "import concurrent\n",
        "import multiprocessing\n",
        "from multiprocessing import pool\n",
        "import io\n",
        "from pprint import pprint"
      ]
    },
    {
      "cell_type": "code",
      "source": [
        "def datecreator():\n",
        "  dizi=[]\n",
        "  ser_date = pd.Series(pd.date_range('19920101', periods=12000))\n",
        "  link=\"https://www.independent.co.uk/archive/\"\n",
        "  for i in range(5000,5001): #10958\n",
        "      dateEnd  = ser_date[i].strftime(\"%Y-%m-%d\")\n",
        "      dizi.append(\"{}{}\".format(link,dateEnd))\n",
        "  return dizi"
      ],
      "metadata": {
        "id": "74yhBK8KVq7P"
      },
      "execution_count": null,
      "outputs": []
    },
    {
      "cell_type": "code",
      "source": [
        "def get_link(i):\n",
        "     print(i)\n",
        "     r = requests.get(i)   \n",
        "     soup = BeautifulSoup(r.content, 'html5lib')\n",
        "     for a in soup.find_all('a', href=True):\n",
        "       link = a['href']\n",
        "       result = link.endswith(\".html\")\n",
        "       if (result==True):\n",
        "         result2 = link.startswith(\"/service\") or link.startswith(\"/news/world/journalism-license-srmg-middle-east-news-world-global-a9579111.html\")\n",
        "         if (result2==False):\n",
        "           ekle=\"https://www.independent.co.uk\"\n",
        "           link=\"{}{}\".format(ekle,link)\n",
        "           with open(\"independent.txt\", 'a') as file: \n",
        "               file.write(link+'\\n')\n",
        "                   "
      ],
      "metadata": {
        "id": "W6y0Rr-kn_UZ"
      },
      "execution_count": null,
      "outputs": []
    },
    {
      "cell_type": "code",
      "source": [
        "import datetime"
      ],
      "metadata": {
        "id": "94oLHgaU3xh9"
      },
      "execution_count": null,
      "outputs": []
    },
    {
      "cell_type": "code",
      "source": [
        "def creator(url):\n",
        "    r = requests.get(url)   \n",
        "    soup = BeautifulSoup(r.content, 'html5lib')\n",
        "    title = soup.find(\"h1\").getText()\n",
        "    content_array = soup.find(\"div\", attrs = {\"class\":\"sc-bxBxkN\"}).getText()\n",
        "    # print (title)\n",
        "    date = soup.find(\"div\", attrs = {\"class\":\"sc-DlApP\"}).getText()\n",
        "    date = date.split()\n",
        "    date = date[3] +\"-\"+ date[2] +\"-\"+ date[1] \n",
        "    # print (date)\n",
        "    date = datetime.datetime.strptime(date,\"%Y-%B-%d\").strftime(\"%Y-%m-%d\")\n",
        "    # print (date)\n",
        "    content_array = content_array.split()\n",
        "    content_string = \"\"\n",
        "    for w in content_array:\n",
        "      stop = \"(function({\"\n",
        "      if(w == stop):\n",
        "        break\n",
        "      else:\n",
        "        content_string = content_string+\" \"+w\n",
        "        #w_data = url+\";\"+date+\";\"+title+\";\"+content_string\n",
        "\n",
        "    w_data=\"{};{};{};{}\".format(url,date,title,content_string)\n",
        "    # write_to_txt(w_data)\n",
        "    with open(\"IndependentContent2.txt\", 'a') as file: \n",
        "        file.write(w_data+'\\n')\n",
        "\n",
        "    "
      ],
      "metadata": {
        "id": "6fVB2kDjsLs-"
      },
      "execution_count": null,
      "outputs": []
    },
    {
      "cell_type": "code",
      "source": [
        "Links = datecreator()\n",
        "\n",
        "t1=time.time()\n",
        "with concurrent.futures.ProcessPoolExecutor() as execut:\n",
        "  b_res=[execut.submit(get_link,i.strip()) for i in Links]\n",
        "\n",
        "\n",
        "print(time.time()-t1)"
      ],
      "metadata": {
        "colab": {
          "base_uri": "https://localhost:8080/"
        },
        "id": "0TfyaVLd-931",
        "outputId": "1feca9dd-10ea-4f35-9ea0-a248f6e17dda"
      },
      "execution_count": null,
      "outputs": [
        {
          "output_type": "stream",
          "name": "stdout",
          "text": [
            "https://www.independent.co.uk/archive/2005-09-09\n",
            "0.9710555076599121\n"
          ]
        }
      ]
    },
    {
      "cell_type": "code",
      "source": [
        "Linknews=[]\n",
        "with open(\"independent.txt\",'r',newline='') as f:\n",
        "  for i in f.readlines():    \n",
        "   Linknews.append(i)\n",
        "\n",
        "t1=time.time()\n",
        "\n",
        "with concurrent.futures.ProcessPoolExecutor() as execut:\n",
        "  b_res=[execut.submit(creator,i.strip()) for i in Linknews]\n",
        "\n",
        "print(time.time()-t1)"
      ],
      "metadata": {
        "id": "vVO38_LL-91c",
        "colab": {
          "base_uri": "https://localhost:8080/"
        },
        "outputId": "02a745b2-7113-4318-9e77-6dd5abda06ea"
      },
      "execution_count": null,
      "outputs": [
        {
          "output_type": "stream",
          "name": "stdout",
          "text": [
            "63.70877456665039\n"
          ]
        }
      ]
    }
  ]
}