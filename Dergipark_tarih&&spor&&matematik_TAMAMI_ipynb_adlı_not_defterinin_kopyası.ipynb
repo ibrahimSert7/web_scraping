{
  "nbformat": 4,
  "nbformat_minor": 0,
  "metadata": {
    "colab": {
      "provenance": [],
      "collapsed_sections": [],
      "include_colab_link": true
    },
    "kernelspec": {
      "name": "python3",
      "display_name": "Python 3"
    },
    "language_info": {
      "name": "python"
    }
  },
  "cells": [
    {
      "cell_type": "markdown",
      "metadata": {
        "id": "view-in-github",
        "colab_type": "text"
      },
      "source": [
        "<a href=\"https://colab.research.google.com/github/ibrahimSert7/web_scraping/blob/main/Dergipark_tarih%26%26spor%26%26matematik_TAMAMI_ipynb_adl%C4%B1_not_defterinin_kopyas%C4%B1.ipynb\" target=\"_parent\"><img src=\"https://colab.research.google.com/assets/colab-badge.svg\" alt=\"Open In Colab\"/></a>"
      ]
    },
    {
      "cell_type": "code",
      "execution_count": 82,
      "metadata": {
        "id": "cFto8xqfESaX"
      },
      "outputs": [],
      "source": [
        "import os\n",
        "import bs4\n",
        "import requests\n",
        "from bs4 import BeautifulSoup\n",
        "import pandas as pd\n",
        "import numpy as np\n",
        "import os\n",
        "import time\n",
        "import urllib.request\n",
        "import re\n",
        "import urllib3\n",
        "from pandas import DataFrame\n",
        "import csv\n",
        "import datetime\n",
        "from datetime import datetime, timedelta ,date\n"
      ]
    },
    {
      "cell_type": "code",
      "source": [
        "csv_file=open('deneme.csv','a',encoding='utf-8')\n",
        "csv_writer=csv.writer(csv_file)\n",
        "csv_writer.writerow(['link','tarih','maincategory','category','baslik','content'])\n",
        "\n"
      ],
      "metadata": {
        "colab": {
          "base_uri": "https://localhost:8080/"
        },
        "id": "y2IFdCwEvm6u",
        "outputId": "b9137a7c-d86c-4f0c-b652-5fcf2fd89732"
      },
      "execution_count": 71,
      "outputs": [
        {
          "output_type": "execute_result",
          "data": {
            "text/plain": [
              "49"
            ]
          },
          "metadata": {},
          "execution_count": 71
        }
      ]
    },
    {
      "cell_type": "code",
      "source": [
        "spor_link = []\n",
        "tarih_link = []\n",
        "biyoloji_link = []"
      ],
      "metadata": {
        "id": "xhRjaJJaEmPi"
      },
      "execution_count": 83,
      "outputs": []
    },
    {
      "cell_type": "code",
      "source": [
        "def date_creator():\n",
        "  for i in range(1,3): #135 sayfa var\n",
        "    lnk = \"https://dergipark.org.tr/tr/search/{}?q=&section=articles&aggs%5Bsubjects.id%5D%5B0%5D=260\".format(str(i))\n",
        "    spor_link.append(lnk)\n",
        "\n",
        "  for i in range(1,3): #389 sayfa var\n",
        "    lnk = \"https://dergipark.org.tr/tr/search/{}?q=&section=articles&aggs%5Bsubjects.id%5D%5B0%5D=357\".format(str(i))\n",
        "    tarih_link.append(lnk)\n",
        "\n",
        "  for i in range(1,3): #168 sayfa var\n",
        "    lnk = \"https://dergipark.org.tr/tr/search/{}?q=&section=articles&aggs%5Bsubjects.id%5D%5B0%5D=169\".format(str(i))\n",
        "    biyoloji_link.append(lnk)\n"
      ],
      "metadata": {
        "id": "5cQEDAMwEsqc"
      },
      "execution_count": 84,
      "outputs": []
    },
    {
      "cell_type": "code",
      "source": [
        "date_creator()"
      ],
      "metadata": {
        "id": "GWHbqDdIGuhS"
      },
      "execution_count": 85,
      "outputs": []
    },
    {
      "cell_type": "code",
      "source": [
        "print(spor_link) # tane haber var\n",
        "print(tarih_link) # tane haber var\n",
        "print(biyoloji_link)"
      ],
      "metadata": {
        "id": "sEZTUHPHF8zF",
        "colab": {
          "base_uri": "https://localhost:8080/"
        },
        "outputId": "a97ccdd6-c3c5-40d4-c603-974e67c4a299"
      },
      "execution_count": 86,
      "outputs": [
        {
          "output_type": "stream",
          "name": "stdout",
          "text": [
            "['https://dergipark.org.tr/tr/search/1?q=&section=articles&aggs%5Bsubjects.id%5D%5B0%5D=260', 'https://dergipark.org.tr/tr/search/2?q=&section=articles&aggs%5Bsubjects.id%5D%5B0%5D=260']\n",
            "['https://dergipark.org.tr/tr/search/1?q=&section=articles&aggs%5Bsubjects.id%5D%5B0%5D=357', 'https://dergipark.org.tr/tr/search/2?q=&section=articles&aggs%5Bsubjects.id%5D%5B0%5D=357']\n",
            "['https://dergipark.org.tr/tr/search/1?q=&section=articles&aggs%5Bsubjects.id%5D%5B0%5D=169', 'https://dergipark.org.tr/tr/search/2?q=&section=articles&aggs%5Bsubjects.id%5D%5B0%5D=169']\n"
          ]
        }
      ]
    },
    {
      "cell_type": "code",
      "source": [
        "spor_wrong_link = []"
      ],
      "metadata": {
        "id": "rRorXidZsA9s"
      },
      "execution_count": 87,
      "outputs": []
    },
    {
      "cell_type": "code",
      "source": [
        "def tarih_get_link_creator(url):\n",
        "  html = requests.get(url).content                                                          \n",
        "  soup = BeautifulSoup(html,\"html.parser\")\n",
        "  list = soup.find(\"div\",{\"class\" :\"article-cards\"}).find_all(\"div\",{\"class\": \"card-body\"})\n",
        "  for i in list:\n",
        "    href = i.find(\"a\").get(\"href\")\n",
        "    with open(\"dergipark_tarih_Links.txt\",\"a\",encoding=\"utf-8\") as file :\n",
        "      file.write(href+\"\\n\")\n",
        "      print(1)\n",
        "    \n"
      ],
      "metadata": {
        "id": "GEaXaeFKaY0h"
      },
      "execution_count": 88,
      "outputs": []
    },
    {
      "cell_type": "code",
      "source": [
        "tarih_get_link_creator('https://dergipark.org.tr/tr/search?q=&section=articles&aggs%5Bsubjects.id%5D%5B0%5D=357')"
      ],
      "metadata": {
        "id": "QvnHmJHXhiR1"
      },
      "execution_count": null,
      "outputs": []
    },
    {
      "cell_type": "code",
      "source": [
        "def spor_get_link_creator(url):\n",
        "  html = requests.get(url).content                                                          \n",
        "  soup = BeautifulSoup(html,\"html.parser\")\n",
        "  list = soup.find(\"div\",{\"class\" :\"article-cards\"}).find_all(\"div\",{\"class\": \"card-body\"})\n",
        "  for i in list:\n",
        "    href = i.find(\"a\").get(\"href\")\n",
        " \n",
        "    with open(\"dergipark_spor_Links.txt\",\"a\",encoding=\"utf-8\") as file :\n",
        "        file.write(href+\"\\n\")\n",
        "        print(1)"
      ],
      "metadata": {
        "id": "PZmDP32fo_kB"
      },
      "execution_count": 89,
      "outputs": []
    },
    {
      "cell_type": "code",
      "source": [
        "spor_get_link_creator('https://dergipark.org.tr/tr/search?q=&section=articles&aggs%5Bsubjects.id%5D%5B0%5D=260')"
      ],
      "metadata": {
        "id": "DEKuFkXEdIqy"
      },
      "execution_count": null,
      "outputs": []
    },
    {
      "cell_type": "code",
      "source": [
        "def biyoloji_get_link_creator(url):\n",
        "  html = requests.get(url).content                                                          \n",
        "  soup = BeautifulSoup(html,\"html.parser\")\n",
        "  list = soup.find(\"div\",{\"class\" :\"article-cards\"}).find_all(\"div\",{\"class\": \"card-body\"})\n",
        "  for i in list:\n",
        "    href = i.find(\"a\").get(\"href\")\n",
        " \n",
        "    with open(\"dergipark_biyoloji_Links.txt\",\"a\",encoding=\"utf-8\") as file :\n",
        "        file.write(href+\"\\n\")\n",
        "        print(1)"
      ],
      "metadata": {
        "id": "_M7swnk2rVJX"
      },
      "execution_count": 90,
      "outputs": []
    },
    {
      "cell_type": "code",
      "source": [
        "biyoloji_get_link_creator('https://dergipark.org.tr/tr/search/3?q=&section=articles&aggs%5Bsubjects.id%5D%5B0%5D=194')"
      ],
      "metadata": {
        "id": "s_ngniC1rWNx"
      },
      "execution_count": null,
      "outputs": []
    },
    {
      "cell_type": "code",
      "source": [
        "import concurrent\n",
        "t1=time.time()\n",
        "with concurrent.futures.ProcessPoolExecutor() as execut:\n",
        "  b_res=[execut.submit(tarih_get_link_creator,i.strip()) for i in tarih_link]\n",
        "print(time.time()-t1)\n",
        "\n",
        "t2=time.time()\n",
        "with concurrent.futures.ProcessPoolExecutor() as execut:\n",
        "  b_res=[execut.submit(spor_get_link_creator,i.strip()) for i in spor_link]\n",
        "print(time.time()-t2)\n",
        "\n",
        "t3=time.time()\n",
        "with concurrent.futures.ProcessPoolExecutor() as execut:\n",
        "  b_res=[execut.submit(matematik_get_link_creator,i.strip()) for i in biyoloji_link]\n",
        "print(time.time()-t3)"
      ],
      "metadata": {
        "id": "wZ5aTy07tcEs",
        "colab": {
          "base_uri": "https://localhost:8080/"
        },
        "outputId": "b51d595c-e2f4-48c1-c526-5a68847da080"
      },
      "execution_count": 91,
      "outputs": [
        {
          "output_type": "stream",
          "name": "stdout",
          "text": [
            "1\n",
            "1\n",
            "1\n",
            "1\n",
            "1\n",
            "1\n",
            "1\n",
            "1\n",
            "1\n",
            "1\n",
            "1\n",
            "1\n",
            "1\n",
            "1\n",
            "1\n",
            "1\n",
            "1\n",
            "1\n",
            "1\n",
            "1\n",
            "1\n",
            "1\n",
            "1\n",
            "11\n",
            "\n",
            "1\n",
            "1\n",
            "1\n",
            "1\n",
            "1\n",
            "1\n",
            "1\n",
            "1\n",
            "1\n",
            "1\n",
            "1\n",
            "1\n",
            "1\n",
            "1\n",
            "1\n",
            "1\n",
            "1\n",
            "1\n",
            "1\n",
            "1\n",
            "1\n",
            "1\n",
            "1\n",
            "1.6040163040161133\n",
            "11\n",
            "\n",
            "11\n",
            "\n",
            "11\n",
            "\n",
            "11\n",
            "1\n",
            "\n",
            "11\n",
            "\n",
            "1\n",
            "\n",
            "111\n",
            "\n",
            "11\n",
            "1\n",
            "\n",
            "11\n",
            "\n",
            "11\n",
            "1\n",
            "1\n",
            "\n",
            "1\n",
            "1\n",
            "11\n",
            "1\n",
            "\n",
            "1\n",
            "1\n",
            "11\n",
            "\n",
            "1\n",
            "11\n",
            "1\n",
            "1\n",
            "1\n",
            "\n",
            "11\n",
            "\n",
            "11\n",
            "\n",
            "11\n",
            "\n",
            "11\n",
            "\n",
            "1\n",
            "1.396470069885254\n",
            "1\n",
            "1\n",
            "1\n",
            "1\n",
            "1\n",
            "1\n",
            "11\n",
            "\n",
            "1\n",
            "1\n",
            "1\n",
            "1\n",
            "11\n",
            "\n",
            "11\n",
            "\n",
            "11\n",
            "\n",
            "1\n",
            "11\n",
            "\n",
            "11\n",
            "1\n",
            "\n",
            "11\n",
            "1\n",
            "1\n",
            "1\n",
            "\n",
            "11\n",
            "1\n",
            "\n",
            "11\n",
            "1\n",
            "1\n",
            "1\n",
            "\n",
            "1\n",
            "1\n",
            "1\n",
            "1\n",
            "1\n",
            "1\n",
            "1\n",
            "1\n",
            "1\n",
            "1\n",
            "1\n",
            "1.568678855895996\n"
          ]
        }
      ]
    },
    {
      "cell_type": "code",
      "source": [
        "spor_links = []\n",
        "tarih_links = []\n",
        "biyoloji_links = []"
      ],
      "metadata": {
        "id": "q4jxUfvV5oPb"
      },
      "execution_count": 98,
      "outputs": []
    },
    {
      "cell_type": "code",
      "source": [
        "with open(\"dergipark_spor_Links.txt\",'r',newline='') as f:\n",
        "  for i in f.readlines():    \n",
        "  # reader=csv.reader(f)\n",
        "    i = i.strip(\"\\n\")\n",
        "    spor_links.append(i)"
      ],
      "metadata": {
        "id": "A87ztrRG5kAO"
      },
      "execution_count": 99,
      "outputs": []
    },
    {
      "cell_type": "code",
      "source": [
        "with open(\"dergipark_tarih_Links.txt\",'r',newline='') as f:\n",
        "  for i in f.readlines():    \n",
        "    i = i.strip(\"\\n\")\n",
        "\n",
        "    tarih_links.append(i)"
      ],
      "metadata": {
        "id": "-KsI0TNf5zej"
      },
      "execution_count": 100,
      "outputs": []
    },
    {
      "cell_type": "code",
      "source": [
        "with open(\"dergipark_biyoloji_Links.txt\",'r',newline='') as f:\n",
        "  for i in f.readlines():    \n",
        "    i = i.strip(\"\\n\")\n",
        "\n",
        "    biyoloji_links.append(i)"
      ],
      "metadata": {
        "id": "1xDK7Cpirywi"
      },
      "execution_count": 101,
      "outputs": []
    },
    {
      "cell_type": "code",
      "source": [
        "print(spor_links)\n",
        "print(tarih_links)\n",
        "print(biyoloji_links)"
      ],
      "metadata": {
        "id": "mA1U4fug66mt",
        "colab": {
          "base_uri": "https://localhost:8080/"
        },
        "outputId": "5dc283e4-b6cc-4223-82be-090b2f351f8f"
      },
      "execution_count": 102,
      "outputs": [
        {
          "output_type": "stream",
          "name": "stdout",
          "text": [
            "['https://dergipark.org.tr/tr/pub/yalvac/issue/72335/1170325', 'https://dergipark.org.tr/tr/pub/bsd/issue/72189/1122050', 'https://dergipark.org.tr/tr/pub/seder/issue/71337/1011913', 'https://dergipark.org.tr/tr/pub/bsd/issue/72189/1083048', 'https://dergipark.org.tr/tr/pub/sbd/issue/72236/998296', 'https://dergipark.org.tr/tr/pub/tsed/issue/72480/1125816', 'https://dergipark.org.tr/tr/pub/tsed/issue/72480/1136051', 'https://dergipark.org.tr/tr/pub/sbd/issue/72236/1089694', 'https://dergipark.org.tr/tr/pub/tsed/issue/72480/1014054', 'https://dergipark.org.tr/tr/pub/tsed/issue/72480/1118476', 'https://dergipark.org.tr/tr/pub/tsed/issue/72480/896400', 'https://dergipark.org.tr/tr/pub/sbd/issue/72236/999376', 'https://dergipark.org.tr/tr/pub/tsed/issue/72480/934732', 'https://dergipark.org.tr/tr/pub/omuspd/issue/72157/1097679', 'https://dergipark.org.tr/tr/pub/tsed/issue/72480/1086245', 'https://dergipark.org.tr/tr/pub/omuspd/issue/72157/1077375', 'https://dergipark.org.tr/tr/pub/tsed/issue/72480/1109003', 'https://dergipark.org.tr/tr/pub/omuspd/issue/72157/1125510', 'https://dergipark.org.tr/tr/pub/omuspd/issue/72157/1081395', 'https://dergipark.org.tr/tr/pub/tsed/issue/72480/1029813', 'https://dergipark.org.tr/tr/pub/srad/issue/71613/1073827', 'https://dergipark.org.tr/tr/pub/srad/issue/71613/1100888', 'https://dergipark.org.tr/tr/pub/omuspd/issue/72157/1078740', 'https://dergipark.org.tr/tr/pub/srad/issue/71613/1147286', 'https://dergipark.org.tr/tr/pub/omuspd/issue/72157/1108596', 'https://dergipark.org.tr/tr/pub/omuspd/issue/72157/1136470', 'https://dergipark.org.tr/tr/pub/psbd/issue/72367/1133062', 'https://dergipark.org.tr/tr/pub/tojras/issue/71370/1140585', 'https://dergipark.org.tr/tr/pub/psbd/issue/72367/1061379', 'https://dergipark.org.tr/tr/pub/dagcilik/issue/71557/1121113', 'https://dergipark.org.tr/tr/pub/kafkassbd/issue/71539/1131786', 'https://dergipark.org.tr/tr/pub/psbd/issue/72367/1084588', 'https://dergipark.org.tr/tr/pub/tojras/issue/71370/1127403', 'https://dergipark.org.tr/tr/pub/dagcilik/issue/71557/1061221', 'https://dergipark.org.tr/tr/pub/kafkassbd/issue/71539/1061499', 'https://dergipark.org.tr/tr/pub/hmj/issue/72315/1166925', 'https://dergipark.org.tr/tr/pub/kafkassbd/issue/71539/1125409', 'https://dergipark.org.tr/tr/pub/ijtsep/issue/72286/1141177', 'https://dergipark.org.tr/tr/pub/dagcilik/issue/71557/1132538', 'https://dergipark.org.tr/tr/pub/kafkassbd/issue/71539/1134094', 'https://dergipark.org.tr/tr/pub/bsd/issue/72189/1149829', 'https://dergipark.org.tr/tr/pub/tojras/issue/71370/1122497', 'https://dergipark.org.tr/tr/pub/bsd/issue/72189/1127113', 'https://dergipark.org.tr/tr/pub/kafkassbd/issue/71539/1133243', 'https://dergipark.org.tr/tr/pub/bsd/issue/72189/1105210', 'https://dergipark.org.tr/tr/pub/kafkassbd/issue/71539/1142657', 'https://dergipark.org.tr/tr/pub/bsd/issue/72189/1116004', 'https://dergipark.org.tr/tr/pub/bsd/issue/72189/1131356']\n",
            "['https://dergipark.org.tr/tr/pub/osmed/issue/69786/1148480', 'https://dergipark.org.tr/tr/pub/osmed/issue/69786/1099285', 'https://dergipark.org.tr/tr/pub/osmed/issue/69786/1106980', 'https://dergipark.org.tr/tr/pub/pausbed/issue/72307/1057718', 'https://dergipark.org.tr/tr/pub/pausbed/issue/72307/1088153', 'https://dergipark.org.tr/tr/pub/pausbed/issue/72307/1096500', 'https://dergipark.org.tr/tr/pub/kdeniz/issue/72344/1160296', 'https://dergipark.org.tr/tr/pub/ksusbd/issue/72391/1121752', 'https://dergipark.org.tr/tr/pub/ksusbd/issue/72391/1087466', 'https://dergipark.org.tr/tr/pub/ksusbd/issue/72391/1085526', 'https://dergipark.org.tr/tr/pub/ksusbd/issue/72391/1096487', 'https://dergipark.org.tr/tr/pub/ksusbd/issue/72391/1081085', 'https://dergipark.org.tr/tr/pub/kulliyat/issue/72392/1125963', 'https://dergipark.org.tr/tr/pub/kulliyat/issue/72392/1144963', 'https://dergipark.org.tr/tr/pub/sutad/issue/72322/1163220', 'https://dergipark.org.tr/tr/pub/sutad/issue/72322/1163243', 'https://dergipark.org.tr/tr/pub/sutad/issue/72322/1163364', 'https://dergipark.org.tr/tr/pub/sutad/issue/72322/1163260', 'https://dergipark.org.tr/tr/pub/sutad/issue/72322/1163238', 'https://dergipark.org.tr/tr/pub/sutad/issue/72322/1163357', 'https://dergipark.org.tr/tr/pub/sutad/issue/72322/1163273', 'https://dergipark.org.tr/tr/pub/sutad/issue/72322/1163370', 'https://dergipark.org.tr/tr/pub/sutad/issue/72322/1163348', 'https://dergipark.org.tr/tr/pub/sutad/issue/72322/1163353', 'https://dergipark.org.tr/tr/pub/sutad/issue/72322/1163212', 'https://dergipark.org.tr/tr/pub/sutad/issue/72322/1163269', 'https://dergipark.org.tr/tr/pub/sutad/issue/72322/1163339', 'https://dergipark.org.tr/tr/pub/sutad/issue/72322/1163373', 'https://dergipark.org.tr/tr/pub/usbad/issue/72342/1084055', 'https://dergipark.org.tr/tr/pub/ttkbelleten/issue/72086/1160186', 'https://dergipark.org.tr/tr/pub/ttkbelleten/issue/72086/1160235', 'https://dergipark.org.tr/tr/pub/ttkbelleten/issue/72086/1160272', 'https://dergipark.org.tr/tr/pub/ttkbelleten/issue/72086/1160194', 'https://dergipark.org.tr/tr/pub/ttkbelleten/issue/72086/1160165', 'https://dergipark.org.tr/tr/pub/ttkbelleten/issue/72086/1160301', 'https://dergipark.org.tr/tr/pub/ttkbelleten/issue/72086/1160222', 'https://dergipark.org.tr/tr/pub/ttkbelleten/issue/72086/1160245', 'https://dergipark.org.tr/tr/pub/ttkbelleten/issue/72086/1160158', 'https://dergipark.org.tr/tr/pub/ttkbelleten/issue/72086/1160199', 'https://dergipark.org.tr/tr/pub/ttkbelleten/issue/72086/1160281', 'https://dergipark.org.tr/tr/pub/iuanadolu/issue/71794/1080451', 'https://dergipark.org.tr/tr/pub/odusobiad/issue/71357/1084844', 'https://dergipark.org.tr/tr/pub/odusobiad/issue/71357/1102155', 'https://dergipark.org.tr/tr/pub/jdr/issue/71570/1067873', 'https://dergipark.org.tr/tr/pub/odusobiad/issue/71357/1094331', 'https://dergipark.org.tr/tr/pub/odusobiad/issue/71357/1108947', 'https://dergipark.org.tr/tr/pub/odusobiad/issue/71357/1089863', 'https://dergipark.org.tr/tr/pub/ataddergi/issue/70680/1129728']\n",
            "['https://dergipark.org.tr/tr/pub/trkjnat/issue/27380/1059974', 'https://dergipark.org.tr/tr/pub/jfhs/issue/72186/1127611', 'https://dergipark.org.tr/tr/pub/ijsm/issue/72260/1075030', 'https://dergipark.org.tr/tr/pub/ijsm/issue/72260/1086904', 'https://dergipark.org.tr/tr/pub/ijsm/issue/72260/1014894', 'https://dergipark.org.tr/tr/pub/ijsm/issue/72260/1075283', 'https://dergipark.org.tr/tr/pub/commagene/issue/72456/1122672', 'https://dergipark.org.tr/tr/pub/ijsm/issue/72260/1066904', 'https://dergipark.org.tr/tr/pub/commagene/issue/72456/1118860', 'https://dergipark.org.tr/tr/pub/commagene/issue/72456/1106777', 'https://dergipark.org.tr/tr/pub/communc/issue/72069/1147162', 'https://dergipark.org.tr/tr/pub/ijsm/issue/72260/1059886', 'https://dergipark.org.tr/tr/pub/ijlsb/issue/68678/1082112', 'https://dergipark.org.tr/tr/pub/ijsm/issue/72260/1006238', 'https://dergipark.org.tr/tr/pub/bagbahce/issue/72405/1128787', 'https://dergipark.org.tr/tr/pub/ijlsb/issue/68678/1129879', 'https://dergipark.org.tr/tr/pub/bagbahce/issue/72405/1084247', 'https://dergipark.org.tr/tr/pub/ijlsb/issue/68678/1103724', 'https://dergipark.org.tr/tr/pub/bagbahce/issue/72405/1171115', 'https://dergipark.org.tr/tr/pub/bagbahce/issue/72405/1087158', 'https://dergipark.org.tr/tr/pub/ijnls/issue/70117/1124453', 'https://dergipark.org.tr/tr/pub/bagbahce/issue/72405/1128803', 'https://dergipark.org.tr/tr/pub/actaquatr/issue/72271/1037585', 'https://dergipark.org.tr/tr/pub/ijnls/issue/70117/1129562', 'https://dergipark.org.tr/tr/pub/jist/issue/72255/1082302', 'https://dergipark.org.tr/tr/pub/jist/issue/72255/1107271', 'https://dergipark.org.tr/tr/pub/jist/issue/72255/1090600', 'https://dergipark.org.tr/tr/pub/jist/issue/72255/1066339', 'https://dergipark.org.tr/tr/pub/ijnls/issue/70117/1100720', 'https://dergipark.org.tr/tr/pub/actaquatr/issue/72271/1087064', 'https://dergipark.org.tr/tr/pub/ajb/issue/72085/1103463', 'https://dergipark.org.tr/tr/pub/actaquatr/issue/72271/1088276', 'https://dergipark.org.tr/tr/pub/jist/issue/72255/1132037', 'https://dergipark.org.tr/tr/pub/ajb/issue/72085/1139277', 'https://dergipark.org.tr/tr/pub/jist/issue/72255/1105133', 'https://dergipark.org.tr/tr/pub/jist/issue/72255/1108551', 'https://dergipark.org.tr/tr/pub/ajb/issue/72085/1148079', 'https://dergipark.org.tr/tr/pub/ajb/issue/72085/1131225', 'https://dergipark.org.tr/tr/pub/ajb/issue/72085/1149544', 'https://dergipark.org.tr/tr/pub/ksutarimdoga/issue/72314/928366', 'https://dergipark.org.tr/tr/pub/ksutarimdoga/issue/72314/986692', 'https://dergipark.org.tr/tr/pub/ksutarimdoga/issue/72314/960925', 'https://dergipark.org.tr/tr/pub/ksutarimdoga/issue/72314/985837', 'https://dergipark.org.tr/tr/pub/ksutarimdoga/issue/72314/979361', 'https://dergipark.org.tr/tr/pub/ksutarimdoga/issue/72314/959044', 'https://dergipark.org.tr/tr/pub/ksutarimdoga/issue/72314/890659', 'https://dergipark.org.tr/tr/pub/trkjnat/issue/27380/1085192', 'https://dergipark.org.tr/tr/pub/trkjnat/issue/27380/1043241']\n"
          ]
        }
      ]
    },
    {
      "cell_type": "code",
      "source": [
        "def creator_tarih_content(url):\n",
        "  html = requests.get(url).content\n",
        "  soup = BeautifulSoup(html,\"html.parser\")\n",
        "  title = soup.find(\"div\",{\"class\" : \"tab-pane active \"}).find(\"h3\").getText().strip() # title tamam \n",
        "  print(title)\n",
        "  content = soup.find(\"div\",{\"class\" : \"article-abstract data-section\"}).find(\"p\").getText() #content tamam\n",
        "  print(content)\n",
        "  date = soup.find(\"span\",{\"class\" : \"article-subtitle\"}).getText() #tarih tamam\n",
        "  date=date.replace(\" \",\"\")\n",
        "  date=date.split()\n",
        "  date = date[4]\n",
        "  print(date)\n",
        "  maincategory = \"Sosyal\"\n",
        "  category = \"Tarih\"\n",
        "\n",
        "  sentence = \"{} ; {} ; {} ; {} ; {} ; {}\".format(url,date,maincategory,category,title,content)\n",
        "\n",
        "  with open('deneme.csv', 'a', encoding='utf-8') as f:\n",
        "    writer = csv.writer(f)\n",
        "    writer.writerow([url,date,maincategory,category,title,content])\n",
        "\n",
        "  # with open(\"dergipark_tarih_content.txt\",\"a\",encoding=\"utf-8\") as file:\n",
        "  #   file.write(sentence+\"\\n\")\n"
      ],
      "metadata": {
        "id": "zTHehXnt6FFY"
      },
      "execution_count": 103,
      "outputs": []
    },
    {
      "cell_type": "code",
      "source": [
        "creator_tarih_content('https://dergipark.org.tr/tr/pub/ataddergi/issue/70680/1079862')"
      ],
      "metadata": {
        "id": "zS4JIIBmMJI0",
        "colab": {
          "base_uri": "https://localhost:8080/"
        },
        "outputId": "f800aaa6-0f84-441c-edb4-e0243206b0b0"
      },
      "execution_count": 30,
      "outputs": [
        {
          "output_type": "stream",
          "name": "stdout",
          "text": [
            "1839-1856 YILLARI ARASINDA MALATYA KAZASI’NIN NÜFUSU: ASPUZU’YA GÖÇ ve TANZİMAT FERMANI ÜZERİNDEN DEĞERLENDİRME\n",
            "Osmanlı Devleti, klasik döneminde her devlet gibi hem sınırları içerisinde yaşayan tebaanın güvenliği hem de gelir kaynaklarının kontrolü açısından belli aralıklarla nüfus ve arazi sayıma gitmiştir. Bundan dolayı bu sayımları çeşitli defterlerde kayıt altında tutmayı temel görevleri arasında saymıştır. Böylece hâkimiyeti altındaki toprakların kullanımı, bu sayım üzerinden asker alma, vergi koyma gibi amaçlar için tahrirler, avarız defterleri, tımar tevcih defterleri gibi çeşitli usuller kullanılmıştır. Ancak Osmanlı’nın klasik dönemde yaptığı nüfus sayımları, XIX. yüzyılda girişilen yenileşme çabaları sonucunda değişime uğramıştır. II. Mahmud döneminde 1831 yılında ülke genelinde nüfus sayımları yapılmıştır. Modern anlamda ilk nüfus sayımı olarak görülen bu sayım, tüm Müslüman ve gayr-ı Müslim erkek nüfus üzerinden gerçekleştirilmiştir. Ülke genelinde yapılan nüfus sayımı ile birlikte askerlik bakımından Müslüman nüfusun, cizye vergisi bakımından da Hıristiyan nüfusun sayısının belirlenmesi sağlanmıştır. Bu nüfus sayımları Malatya’da da yapılmıştır. \r\n",
            "Bu çalışmada 1839-1856 yılları arasında Malatya Kazası’nın nüfusu incelenecektir. Çalışma, ağırlık olarak demografik yapı üzerinde etkili olan şehrin Aspuzu’ya göçü ve Tanzimat Fermanı sonrasında yapılan nüfus sayımları ve sonuçları üzerinden ilerletilecektir.\n",
            "01.08.2022\n"
          ]
        }
      ]
    },
    {
      "cell_type": "code",
      "source": [
        "def creator_spor_content(url):\n",
        "  html = requests.get(url).content\n",
        "  soup = BeautifulSoup(html,\"html.parser\")\n",
        "  title = soup.find(\"div\",{\"class\" : \"tab-pane active \"}).find(\"h3\").getText().strip() # title tamam \n",
        "  # print(title)\n",
        "  content = soup.find(\"div\",{\"class\" : \"article-abstract data-section\"}).find(\"p\").getText()\n",
        "  # print(content)\n",
        "  date = soup.find(\"span\",{\"class\" : \"article-subtitle\"}).getText() #tarih tamam\n",
        "  date=date.replace(\" \",\"\")\n",
        "  date=date.split()\n",
        "  date = date[4]\n",
        "  # print(date)\n",
        "  maincategory = \"Tıp\"\n",
        "  category = \"Spor Bilimleri\"\n",
        " \n",
        "\n",
        "  sentence = \"{} ; {} ; {} ; {} ; {} ; {}\".format(url,date,maincategory,category,title,content)\n",
        "  # calisan_listesi= {\"isim\":[title],\n",
        "  #                 \"yas\":[content],\n",
        "  #                  \"maas\":[category]}\n",
        "\n",
        "  # dataframe = pd.DataFrame(calisan_listesi)\n",
        "\n",
        "  # df=pd.read_csv(\"deneme.csv\")\n",
        "\n",
        "  # dataframe.head()\n",
        "  \n",
        "  # print(dataframe.columns)\n",
        "  # print(dataframe.info())\n",
        "\n",
        "  with open('deneme.csv', 'a', encoding='utf-8') as f:\n",
        "    writer = csv.writer(f)\n",
        "    writer.writerow([url,date,maincategory,category,title,content])\n",
        "  with open(\"dergipark_spor_content.txt\",\"a\",encoding=\"utf-8\") as file:\n",
        "    file.write(sentence+\"\\n\")\n",
        "\n"
      ],
      "metadata": {
        "id": "3sm6fIZiwpiM"
      },
      "execution_count": 104,
      "outputs": []
    },
    {
      "cell_type": "code",
      "source": [
        "creator_spor_content('https://dergipark.org.tr/tr/pub/seder/issue/71337/1011913')"
      ],
      "metadata": {
        "id": "GY8p3OoRX0WF"
      },
      "execution_count": 32,
      "outputs": []
    },
    {
      "cell_type": "code",
      "source": [
        "def creator_biyoloji_content(url):\n",
        "  html = requests.get(url).content\n",
        "  soup = BeautifulSoup(html,\"html.parser\")\n",
        "  title = soup.find(\"div\",{\"class\" : \"tab-pane active \"}).find(\"h3\").getText().strip() # title tamam \n",
        "  print(title)\n",
        "  content = soup.find(\"div\",{\"class\" : \"article-abstract data-section\"}).find(\"p\").getText()\n",
        "  print(content)\n",
        "  date = soup.find(\"span\",{\"class\" : \"article-subtitle\"}).getText() #tarih tamam\n",
        "  date=date.replace(\" \",\"\")\n",
        "  date=date.split()\n",
        "  date = date[4]\n",
        "  print(date)\n",
        "  maincategory = \"Temel Bilimler\"\n",
        "  category = \"biyoloji\"\n",
        " \n",
        "\n",
        "  sentence = \"{} ; {} ; {} ; {} ; {} ; {}\".format(url,date,maincategory,category,title,content)\n",
        "\n",
        "  with open('deneme.csv', 'a', encoding='utf-8') as f:\n",
        "    writer = csv.writer(f)\n",
        "    writer.writerow([url,date,maincategory,category,title,content])\n",
        "  # with open(\"dergipark_matematik_content.txt\",\"a\",encoding=\"utf-8\") as file:\n",
        "  #   file.write(sentence+\"\\n\")\n",
        "\n"
      ],
      "metadata": {
        "id": "nJgpqt7usOFl"
      },
      "execution_count": 105,
      "outputs": []
    },
    {
      "cell_type": "code",
      "source": [],
      "metadata": {
        "id": "f4WwXsLzm8ra"
      },
      "execution_count": null,
      "outputs": []
    },
    {
      "cell_type": "code",
      "source": [
        "import concurrent\n",
        "t1=time.time()\n",
        "with concurrent.futures.ProcessPoolExecutor() as execut:\n",
        "  b_res=[execut.submit(creator_tarih_content,i.strip()) for i in tarih_links]\n",
        "print(time.time()-t1)\n",
        "\n",
        "t2=time.time()\n",
        "with concurrent.futures.ProcessPoolExecutor() as execut:\n",
        "  b_res=[execut.submit(creator_spor_content,i.strip()) for i in spor_links]\n",
        "print(time.time()-t2)\n",
        "\n",
        "t3=time.time()\n",
        "with concurrent.futures.ProcessPoolExecutor() as execut:\n",
        "  b_res=[execut.submit(creator_biyoloji_content,i.strip()) for i in biyoloji_links]\n",
        "print(time.time()-t3)"
      ],
      "metadata": {
        "id": "4GDpYF_Nw1ys",
        "colab": {
          "base_uri": "https://localhost:8080/"
        },
        "outputId": "f7c32373-168f-4d77-c190-9bb4043c5e94"
      },
      "execution_count": 107,
      "outputs": [
        {
          "output_type": "stream",
          "name": "stdout",
          "text": [
            "Topkapı’dan Sâdâbâd’a: 15. Yüzyıldan 18. Yüzyıla Osmanlı Sultanının Sarayında ve İnzivasında Mekânsal DönüşümMilas Kazası Vakıflarının İdarî ve Malî Durumları [Vakıf Kayıtlarına Göre / 1848-1885]\n",
            "\n",
            "Osmanlı Devleti’nde şehirlerin gelişip büyümesinde vakıfların önemli bir yeri vardır. Özellikle şehir merkezlerindeki kamu yararına kurulmuş binaların bakım, onarım ve temel ihtiyaçları vakıflar sayesinde karşılanmıştır. Bu bağlamda Milas kazası ve köylerinde insanlığın yararına olmak üzere pek çok vakıf eseri vücuda getirilmiştir. Firuz Paşa, Ahmed Gazi Bey ve İlyas Bey vakıfları geçmişi itibariyle oldukça eski olup varlıklarını ve fonksiyonlarını 19. yüzyıla kadar sürdürmüştür. Yine 18. yüzyılda Milas ve civarında idarecilik yapmış olan Abdülaziz Ağa’nın kurduğu vakıflar şehrin güzelleşmesine önemli bir katkı yapmıştır. Bunların dışında farklı kişiler tarafından Milas ve köylerinde cami, mescid, zaviye, medrese, mektep, çeşme ve su kuyusu vakıfları kurulmuştur. Milas kasabası ve köylerinde 78 farklı ad ile 108 vakıf mevcuttur. Bu vakıfların 99 adedi erkekler tarafından 9 adedi ise kadınlar tarafından oluşturulmuştur. Vakıf kurucularının büyük çoğunluğunun kaza ve köy ileri gelenleri olduğu anlaşılmaktadır. Bunun nedeni ise insanların hayır işleme düşüncesiyle mülklerini vakıf haline getirmeleriyle ilgilidir. Yöneticileri ise genellikle vakıf kurucusunun soyundan gelenlerdi. Ancak az sayıdaki vakıfta mütevelli olarak imam, hafız veya müezzin gibi kimseler görev almıştır. Milas vakıfları genel olarak ekonomik açıdan iyi durumda olup, gelir-gider dengesini korumuşturlar. Dolayısıyla çalışmamızın konusu bu vakıfların 1848-1885 tarihleri arasındaki malî ve idarî yapılarının kontrolü sırasında oluşturulan defterler üzerinden durumlarını tespit etmek ve Milas kazasının vakıf kültüründeki yerini ortaya koymaktır.\n",
            "Ortaçağ ve erken modern dönemde hükümdarın bedenine ve yaşadığı mekâna kutsallık atfetmek, İslami devlet geleneğinin biz özelliğidir. Hükümdar ne kadar az görünür olursa, şahsında temsil ettiği devlet de o kadar kutlu ve mistik bir görünüm kazanırdı. Bu pratiği birçok gelenekten beslenerek devam ettiren Osmanlı İmpartorluğu’nda da sultan 15. yüzyıldan itibaren daha az görünür olmuş ve bir inziva hâline geçmiştir. Daha az görünen sultan inşa ettirdiği saray ve bu sarayda uygulamaya koyduğu protokol kurallarıyla erişilmezliğini daha da arttırmıştır. Yaklaşık iki yüz yıl devam eden bu süreç, 18. yüzyılda terk edilmiş; “görünmeden gören” sultan yerini kendisini “teşhir eden” sultana bırakmıştır. Sultanın beden politikasında ve yaşadığı mekândaki bu değişim kişisel tercihler nedeniyle olduğu gibi içeriden ve dışarıdan gelen çeşitli meydan okumaların ortaya çıkması nedeniyle de gerçekleşmiştir. İçeride yeni yükselen sosyal sınıfların baskısı altındaki sultan, kendisini şehirde gösterme ihtiyacı hissetmiştir. Bu iç baskının yanında sultan aynı zamanda Avrupa’da görülen yeniliklerin ve buna bağlı olarak bir imaj kaygısının da etkisi altına girmiştir. Böylelikle, 15. yüzyıldan 18. yüzyıla gelindiğinde artık bir meşruiyet kaygısına sahip olan Osmanlı sultanları daha görünür ve erişilebilir olmak istemişlerdir.\n",
            "15.10.202215.10.2022\n",
            "\n",
            "DARBHANE-İ AMİRE NAZIRI SEYYİD ABDURRAHMAN FEYZİ BEY’İN MALLARININ MÜSADERE EDİLMESİ ve MUHALLEFÂTI (1819)\n",
            "Osmanlı sosyal ve ekonomik tarihi incelemelerinde araştırmacılar tarafından sık kullanılan arşiv dokümanlarından biri de muhallefat/tereke kayıtlarıdır. Araştırmacılar tarafından çeşitli açılardan değerlendirmeye tabi tutulan muhallefat kayıtlarında, ölen kişinin kişisel yaşantısı, aile yapıları hakkında bilgiler bulunabileceği gibi, hayatları boyunca tasarruflarında bulunan dokuma ürünleri, mutfak, mobilya ve hırdavat gibi ev eşyası, hayvanları ve gayrimenkulleri hakkında detaylı verilere ulaşılabilmektedir. Elde edilen bu veriler sayesinde, dönemin parasal ilişkileri (alacak-verecek), tüketim kalıpları, yaşam felsefesi, gündelik hayatta kullanılan araç-gereçlerin dağılımı, giyim ve kuşam anlayışları, üretim araçları ve kişisel servetin nasıl dağılım gösterdiği irdelenebilmektedir. Bu nedenledir ki muhallefat kayıtlarının tarih araştırmalarında oldukça mühim bir yerinin olduğu ve bu kaynak grubundan daha çok istifade edilmesi gerektiği düşüncesi hâkim olmuştur. Bu çalışmada, 19. yüzyılın başlarında Darbhane nazırlığı yapan Seyyid Abdurrahman Feyzi Bey’in menkul ve gayrimenkul mallarının müsadere edilmesinin gerekçeleri, müsaderede uygulanan işlemler ve emvalinin sosyo-iktisadi bağlamda incelenmesi ele alınmıştır.\n",
            "Rodos Sancağına Bağlı İstanköy Adası[İncirli Adası] Kükürt Madeni25.09.2022\n",
            "\n",
            "Kükürtün birçok kullanım alanı vardır. Ham kükürdün büyük bölümü, kükürt dioksit gazı, sülfürik asit, karbon sülfür, tiyosülfat vb. üretiminde kullanılır. Arı kükürt, kara barut ve havai fişeklerin bileşimine girer. Bağlarda görülen külleme hastalığına karşı yapılan kükürtleme ile deri hastalıklarının tedavisinde kullanılan pomat ve şampuanların hazırlanmasında kükürtten yararlanıldığını özellikle belirtmek gerekir. Rodos Adası’nın İstanköy  kazası’na bağlı on iki adanın bir topluluğu olan İncirli Adası Nahiyesinde kükürt madeni bulunmaktadır.  1840 yılına ait  arşivdeki  ilk evrakta, madene işletme imtiyazı verilmek istendiğinden  adada kükürt madeni bulunduğunu anlıyoruz. 1857’ de bizzat Tophane-i Amire’ye bağlı olarak kurulan fabrikada kükürt madeni işlenmeye başlanmıştır. Belli bir dönem yabancıların imtiyazlarıyla işletilen kükürt madeninden üretilen toprak devlete bağlı olduğundan devletin verdiği   özel izinlerle etraftaki adalarda yetişen bağlara  yollanmıştır. Etraftaki başka adalarda da kükürtlü toprak bulunmasına rağmen, İncirli Adası’nın kükürt  toprağı   bağlara daha verimli  olmuştur.  İncirli Ada’da iki türde kükürt toprağı üretilmiştir.  Meydana gelen deprem nedeniyle adada yeni kükürt madeni alanları açılmış, buradaki fabrika Tophane-i Amire’den mültezimlere devredilmiştir.  Bu çalışmada kullanılan veri ve bilgiler ağırlıklı olarak Cumhurbaşkanlığı Osmanlı Arşivi’nde bulunan belgeler, döneme ilişkin resmi istatistikler ve diğer yayınlardan elde edilmiştir. İnceleme yaptığımız kükürt madeninin bulunduğu mevki, madenin cinsi ve üretim özellikleri, imtiyazın verildiği şahıslar  tek tek incelenmiş, kükürt madeni üretimi anlatılırken Osmanlı Devleti’nin ekonomik yapısı içinde yer alan maden sektörü açıklanmıştır.  \n",
            "15.10.2022\n",
            "OHRİ GÖLÜ’NÜN SOSYAL VE EKONOMİK HAYATA ETKİSİ (1853-1903)\n",
            "Lake Ohrid is within the borders of North Macedonia and Albania today. Being an important fishing center in Rumelia, the lake came to the fore with some problems related to flooding and fishing during the Ottoman period. There are important cities and towns called Ohrid, Ustruga (Struga) and Istarova on the lake shore. This study has two main aims. The first one is to find the answer to the question, “What kind of method has been followed to prevent the floods to which the people living around Lake Ohrid are exposed?”; the other is to determine the reaction of the people to the iltizam system applied in the collection of taxes collected from fishing, which is the main source of income of the local people, and the problems that arise. We can add to these the potential of fishing revenues in Lake Ohrid. The local people are not satisfied with the iltizam system regarding the collection of fishing taxes. The wish of the people is that fishing is free in exchange for 1/5 of the revenue. The fish tax obtained from Lake Ohrid in 1891 constituted approximately 5.60% of the total fish income in the country. In our study, Ottoman archival documents were used to a large extent. In addition, other sources were also consulted.\n",
            "25.09.2022\n",
            "SULTAN II. MURAD’IN KÖPRÜBAŞINDAKİ HAYRÂTI: ERGENE İMARETİ (XV. YÜZYILIN İKİNCİ YARISINDA EVKÂFI VE İDARESİ)\n",
            "Ergene Bridge was put into service in 1443. The imaret which was endowed by Sultan Murad II in 1447, was built in the center of Ergene town, that was established on the southeast end of the bridge. The bridge and the imaret provided the establishment and growth of the new town. In particular, the imaret complex provided the construction of important social, religious and economic charities and real estates that generates income in the center of the town, meeting the needs of the local population and quests. The foundation established by the sultan for the imaret, became a financial power in the realization of the services of the charities and the continuation of the activities of the real estates that generates income. The employes, who are the most important elements of the foundation and payment of the their salaries, the care of charities and real estates that generates rental income and the fulfillment of the needs of the needy living in the town have been thanks to the foundation revenues. In this point, the revenues, from the taxes and agricultural products of the villages subject to Ergene and Malkara to the foundation had a higher share than the foundation's revenue real estates that generates income in Edirne and Ergene. We will evaluate and try to explain the services of the imaret at the point of feeding and sheltering people, its effect on social welfare activities, the problems experienced accounting of the foundation, and the approach of the foundation governance to administrative issues in this research.\n",
            "25.09.2022\n",
            "MİLLİ MÜCADELE STRATEJİSİ, UYGULANMASI VE SONUÇLARI\n",
            "Несомненно, Национальная Борьба является одним из прекраснейших примеров реализации на национальном уровне стратегии, означающей захват определенной стратегической цели путём применения к имеющимся силам (силовым элементам) наиболее подходящих способов и стилей действий. Мустафа Кемаль, лидер национальной борьбы успешно его завершил, реализовав невозможное во всевозможных негативных условиях того времени. Мустафа Кемаль, предопределивший стратегию Национальной борьбы, приступил к её реализации шаг за шагом, начиная с Самсуна. Поэтому в следующем процессе события развивались не в результате стечения обстоятельств, а во многом так, как предсказал Мустафа Кемаль. Наиболее важным фактором, который сделал национальную стратегию борьбы успешной, был активный подход к нему. Расширение полномочий инспекции, раскрытие принципов национального сопротивления с помощью циркуляра Амасьи, обеспечение национального единства в значительной степени с помощью конгрессов в Эрзуруме и Сивасе, открытие Великого Национального Собрания Турции и постановка Национальной Борьбы на почву полной легальности. Легитимность, реализация стратегии тотальной войны (согласно с решениями Текалифи Миллие) для объединения нации, его вовлечение в борьбу в целом, избегание прямого нападения на султана до упразднения султаната, недопущение разногласий и т. д. многие из его взглядов и инициатив стали поворотными моментами активного подхода Мустафы Кемаля. Одним из факторов, делающих национальную борьбу уникальной, является то, что она одержала славную победу, когда турецкая нация переживала самый мрачный период своего существования.  Многие части страны находились под оккупацией, султанат и правительство Стамбула полностью подчинялись силам Антанты, а интеллектуалы искали пути совместно с американцами и британцами для выхода со сложившегося ситуации. Одна часть народа пыталась сопротивляться оккупантам в пределах своего региона. В таких условиях, когда нация отчаянно ждала, что же с ней произойдет, Мустафа Кемаль начал действовать, поставив перед собой великую цель. Это было “создание полностью независимое новое турецкое государство, основанное на национальном суверенитете”. Цель был большим, но имеющиеся силы для наведения на цель недостаточными. Годы войн и тяжелых поражений утомили и измотали нацию, армия в значительной степени была демобилизована и распущена.  Оружие и боеприпасы были исчерпаны, а отставшая часть отнималась постепенно. За исключением небольших местных движений сопротивления, ни у кого не было идеи противостояния на национальном уровне, сторонники султаната и халифата выступали против Национальной Борьбы. Следовательно, имеющиеся силы были несовместимы с целью, а условия не подходили для реализации какого-либо плана действий. Несмотря на это, победа является результатом стратегического гения Мустафы Кемалья.CHP Genel Sekreterlerinin Parti Siyaseti Üzerindeki Etkileri: Kasım Gülek Ve Bülent Ecevit\n",
            "\n",
            "Siyasal partilerde bir parti içi mekanizma olarak öne çıkan parti genel sekreterliği birimi, çok partili hayatın ilk yıllarında CHP’nin değişen siyasal misyonu üzerinde tıpkı tek partili yıllarda olduğu gibi önemli bir etkiye sahipti.  Parti genel sekreterliği biriminin fikir üreten, siyaset yapan, zaman zaman parti liderinin önüne geçen tutum ve eylemlerinin konu edindiği bu çalışmada; uzun iktidar yıllarının ardından muhalefete geçen CHP’nin hem parti içindeki bu şaşkınlığı aşma hem de partiyi halk nazarındaki olumsuz imajından kurtarma çabaları ele alınmaktadır. Bu yeni söylem oluşturma çabaları; Kasım Gülek ve Bülent Ecevit gibi iki önemli parti genel sekreterinin fikir ve uygulamaları çerçevesinde incelenmektedir. Keza CHP’de değişimin gerekliliğine inanarak uygulamaya döken ilk parti genel sekreteri olan Kasım Gülek’in bireysel olarak yürüttüğü halkçı uygulamalar ve halka dönüş çalışmaları, Bülent Ecevit’in parti genel sekreterliği süresince plan ve program çerçevesinde uygulamaya dökülmüştür. Çalışma iki genel sekreterin farklı dönemlerde ancak aynı politika kapsamında partide bir değişim rüzgârı başlattığı kanısındadır.15.09.2022\n",
            "\n",
            "31.08.2022\n",
            "İçişleri Bakanı Şükrü Kaya’nın Sınır İllerine Ziyareti ve Kaçakçılık Hakkındaki Raporu\n",
            "After the negative impact of the 1929 world economic depression, economic problems were felt quite a lot in countries such as Turkey, which could not heal the wounds of World War I in many areas and tried to stand on its own feet. In order to reduce the impact of the economic crisis, Turkey has taken some measures to reduce its expenses and increase its revenues. The government, while increasing the customs tax rates, which had an important place among the income sources, also took serious and concrete steps to prevent smuggling, which reduced the customs revenues. In this respect, it made some legal arrangements, and followed a policy to prevent smuggling in customs revenues by reorganizing the institutions that would prevent customs smuggling. However, the government officials felt the need to be with the public in order to make on-site observations, and they made some trips for this purpose. In this context, the inspection trip to the southern provinces of Turkey and the report prepared by the Minister of Interior Affairs Şükrü Kaya touched upon important points regarding the border smuggling activities in the region. The report is important in that it contains on-site observations about the problems experienced and the measures needed to be taken. As well as being influential in the formation of the Ministry of Customs and Exclusivity and the Customs Enforcement Command and in the regulations such as the Law regarding Smuggling, the report attracted the attention of state officials, especially the President and the Prime Minister and affected the legal regulations to be made in this period.\n",
            "31.08.2022\n",
            "H.1261/m.1845 Tarihli Muhasebe-i Evkâf-ı Hümâyun Defteri’ne Göre Diyarbekir Vakıfları\n",
            "Many peoples’ needs such as education, accommodation, health, worship, food and drink, etc. were met without any payment from the treasury of the state thanks to the waqfs which had an important position in the socio-economic structure of Ottoman Empire. Income and expenses of the foundation institution, which was so important, were covered by movable-real estate properties and goods donated by charitable people. In this study, income-expense accounts of 81 foundations in Diyarbekir in h.1261/m.1845, following the proclamation of Tanzimat, have been examined under separate titles according to the type of waqfs (mosque, prayerroom, offspring, madrasah, water, library, tomb).\n",
            "31.08.2022\n",
            "Hacı Bektâş Velî'nin Elbistan, Göksun ve Afşin'de Bıraktığı İzler\n",
            "Bu çalışmada Hacı Bektâş Velî’nin Anadolu’ya girdikten sonra bir müddet bulunduğu Elbistan, Göksun ve Afşin’de bıraktığı izler incelenecektir. Moğolların Türkistan ve Horasan’ı istila etmeleri üzerine onların önünden göç eden halkın yanında âlimler, mutasavvıflar ve dervişler de vardı. Bunlardan biri olan Hacı Bektâş Velî’nin Elbistan’da ve çevresinde yaşadığı bilinmektedir. Ondan birkaç yıl önce şeyhi Dede Garkın da bölgeye gelmiş ve Göksun’un Kanlıkavak köyünde bulunmuş, halife ve dervişleri burada bir zaviye yaptırmışlardır. Bu zaviye yakınında bulunan bir köyde Osmanlı dönemi kayıtlarına göre Dede Garkın’ın oğulları ziraat yapmaktaydılar. 1240’ta bölgede cereyan eden Babaî İsyanı sonrası Hacı Bektâş Velî bölgeyi terk ederek Suluca Karahöyük’e (Hacıbektaş) göç etmiştir. Dede Garkın’ın ise Güneydoğu Anadolu bölgesine gittiği bilinmektedir. Hacı Bektâş Velî’nin halifelerinden olduğu kabul edilen Himmet Baba (Ümmet Baba) Elbistan’da yaşamıştır. Ümmet Baba’nın Elbistan’da bulunan türbesinin yanına Dulkadir Beyliği zamanında zaviye, medrese ve camii yapılmıştır. Yöre halkı kentin önemli ziyaretgâhlarından biri olan Himmet Baba’ya büyük bir saygı duymaktadır. Hacı Bektâş Velî’nin halifelerinden biri olan Dede Baba (Deve Baba) ise Afşin’e (Efsus) yerleşmiştir. Himmet Baba ve Dede Baba’nın kardeş oldukları, her ikisi için de türbe ve zaviye yapıldığı, Dulkadir Beyliği ve Osmanlı dönemlerinde bunların imar edildiği bilinmektedir. 1563 Tarihli Maraş Tahrir Defteri’ne göre Dede Baba Zaviyesi’nde Hacı Bektâş Velî evlatlarının görevli olduğu kayıtlıdır.\n",
            "31.08.2022\n",
            "Geleneksel Kazak Toplumunda Biy Mahkemeleri (XVIII-XIX. Yüzyıllar)\n",
            "In the 18th and 19th centuries, traditional judges called biy played an active role in the resolution of legal disputes in the social and economic relations of the Kazakhs. The first law regulating judicial-administrative relations in Kazakhs was the law of Kasım Khan's Right Way (Kaska Jolı of Kasım Khan) created by Kasım Khan. Afterwards, the legal process was systematized with the laws of Esim Han's Old Way (Esim Han's Old Jolı) and Tavke Han's Seven Jurisdictions (Jeti Jargı). In these laws, Biy Courts were not only limited to serving as a judicial institution, but also served as the official authority responsible for the judicial and administrative affairs of the Kazakh people. Biyler, who held the judicial power, had an important place in the social life of the nomadic Kazakhs and in the functioning of state institutions. In this study, the emergence of the biy in the Kazakh society structure, the development of the biy court and its characteristic features are discussed.\n",
            "31.08.2022\n",
            "FRUIT GROWING IN CHIOS IN THE OTTOMAN EMPIRE\n",
            "Chios is an island of Greece in the Aegean Sea. The island, which is connected to the North Aegean region of the country, is separated from Turkey by the Strait of Chios. It is famous for mastic trees and mastic gum obtained from these trees. Shortly before the death of Suleiman the Magnificent, the island, which joined the Eyalet of the Archipelago (Eyālet-i Cezāyir-i Baḥr-i Sefīd in Ottoman Turkish) in the Ottoman Empire, was conquered by   Kapudan Pasha Piyale Pasha in 1566. Due to the mountainous nature of Chios, a small part of its land is suitable for agriculture. A very small part of the population that made up the island was Muslim. Throughout history, the most important products of the island were mastic, citrus, lemon and orange, almond, pomegranate, olive trees. Citrus products such as fresh lemons, lemon juice, citrus and citron, which constitute the island's most important source of income, were sent to Istanbul to the palace halvahane (Ottoman hist. a section of a sultanic kitchen where desserts and candies were made) under the name \"Miri Mübayaa\". The material cost of these purchased products was also covered from the mukataa of the island. The problems encountered in the years when products could not be obtained from these trees were also reflected in the documents. In the state yearbooks (salname), a disease called \"Kermez \" was mentioned, which we cannot get any information about exactly. In the orchards created by two sample farms, it was tried for three years to fight the diseases. This study was conducted by a businesslike science officer. Agriculturalists who became quite skilled in this business were also sent to treat citrus diseases that occurred in other provinces. Olive and the oil obtained from it was one of the pure products of the island. However, the tithe (öşür) tax obtained from olive cultivation, which is available enough to meet the needs of the island, was collected through mukataas and this income was used for the needs of the state, especially the treasury. The main sources of our article are the documents, the state yearbooks, reports and of course travel books in the Ottoman Archives of the Presidency of the State Archives. All kinds of information reflected in the archive about fruit production in Chios and these products, diseases infesting trees, export of fruits, all documents in the archive about trees are explained in detail.\n",
            "30.08.2022\n",
            "TURUK VE MAÂBİR MEKTEBİ VE İLK NİZAMNAMESİ (1862)\n",
            "Turuk and Maâbir School is the first civil engineering school established in the Ottoman Empire. The main factor in the opening of the school was the idea of training the engineers needed for the construction of new roads and bridges in the country and the improvement of the old ones. For this purpose, it was planned to open a civil engineering school affiliated to the Ministry of Commerce in order to meet the engineering needs of the country during the Tanzimat period. In fact, a regulation was written in 1862 for this school, which was planned to be opened under the name of Turuk and Maâbir Mektebi. However, it is not known whether the civil engineering school was opened on this date. However, the common view is that the Turuk and Maâbir School was opened in 1874, but it is understood from the sources that a civil engineering school has been operating under the name of Mülkiye Mühendislik Mektebi since 1868. The closure of the first civil engineering school, which was active between 1868 and 1871, after continuing education for only four years, misled the researchers, and 1874, the second opening date of the school, was accepted as the starting date of civil engineering education in Turkey. In this study, some new determinations are made about the start date of civil engineering education and the first civil engineering school in Turkey by making use of archival sources. The said regulation of the Turuk and Maâbir School dated 1862 will also be discussed in detail, and new information will be given based on the sources that have never been contacted before.\n",
            "30.08.2022\n",
            "MUNZUR VE ANA FATMA ÖRNEKLERİ ÜZERİNDEN TUNCELİ’DE SU KÜLTÜ\n",
            "The water cult, which has a long history in Tunceli folk belief, is an important example of the traces of past beliefs living in the region. The water cult, which was carried to Anatolia from ancient Turkish beliefs and blended with the ancient beliefs here, manifests itself in many sacred places and rituals in the region. The study we conducted in this direction reveals how the water cult gained a new meaning from the Alevi/Kizilbash belief by examining the local sacred places Munzur Springs and the river and Ana Fatma holy places. The water cult within these two sacred places in the region was tried to be enlightened. For this purpose, in our study, firstly, the existing water cult in the old Turks was examined, then the water cult in the Tunceli region was mentioned in general terms. Finally, the holy places of Munzur and Ana Fatma, the water cult and other related cults in these holy places are discussed. It has been determined that the existing water possessor in the old Turks gained a new meaning in Tunceli through Munzur and Ana Fatma. The reflections of the rituals in the old Turkish belief world in Tunceli, such as the sacrifice, hair and kindling rituals performed by the river, have been determined. In this sense, the religious and cultural reflections in question have been tried to be explained together with historical data.\n",
            "26.08.2022\n",
            "YÖNETİME ETKİLERİ BAĞLAMINDA ÜÇ İKTİDAR VE ÜÇ KADIN: TERKEN HATUN, HAYZÜRÂN, ELEANOR OF AQUİTAİNE\n",
            "Since the first ages, women have fought for existence in every field. In general, with the development of civilizations, a huge gap has emerged between men and women who instinctively share everything since their existence, especially in the field of administration. In time, male-dominated societies emerged, and women remained in the background in the administration, and male dominance established a general dominance over women. But women who have not given up their struggle have been able to break this situation in many periods and have gained a place in all parts of society. With the formation of societies, the ruling classes emerged, and the ruling and managed classes were born. Although there are some societies that are rarely managed by women, in general, the government has been in the hands of men. In this case, even if the woman could not intervene directly in the administration, she intervened indirectly. This effect of women on management has changed according to time, place, and societies. In cases where the woman could not be directly in the country's administration, they realized their influence through their husbands. In particular, the monarch's wives not only acted on their own husbands to ensure the continuity of their activities in the administration, but also fought for their children to become rulers in the future. They tried to establish an order between their children that would make them comfortable, they have struggled to have their chosen child be the ruler. The most important factor in this effect is the customs, traditions, and understandings of the societies they belong to. Because beliefs, traditions and customs, social values have also determined the spheres of influence of women. In this study, the effects of monarch wives belonging to three different geographies -West Asia and the Middle East, Europe- and three different nations – Arabs, Turks, Franks - on management will be examined and similar and different aspects of their effects on management will be tried to be revealed by applying the comparison method. When studying the wives of rulers, sources of the period will be considered centrally.\n",
            "26.08.2022\n",
            "SULTAN MELİKŞAH’IN AKDENİZ’E İLK ADIMININ TÜRK KÜLTÜR ÖGELERİ AÇISINDAN DÜŞÜNDÜRDÜKLERİ\n",
            "The Great Seljuk Sultan Malik-Shah fully embraced the Turkish idea of world domination and successfully preserved his father's auspicious legacy. Alparslan trusted Malik-Shah since his childhood. Malik-Shah who made his mark in history with glorious conquests, embarked on an expedition to Antioch in 1086, taking his first steps into the Mediterranean on the shores of Seleucus (Suveydiye). The Sultan's arrival here mainly aims to solve a political issue. However, his encounter with the Mediterranean and the behavior he exhibited here with the excitement he felt were considered worthy of examination and became the subject of our study. The sultan first rode his horse into the sea, then dipped his sword into the water three times, prayed on the seashore and took the soil he had taken from the shore to his father's grave. Considering the importance of traditional practices in keeping the national identity alive, each of these behaviours that Malik-Shah, who was the owner of the most brilliant period of the Great Seljuk State, showed as if he remembered his Central Asian ancestor is important in terms of Turkish cultural history. In our study, it is aimed to show that the Seljuk sultans dominated and continued the old Turkish traditions with the incident, which is tried to be examined within the framework of horse, sword and earth symbols, which are important elements of Turkish culture.\n",
            "26.08.2022\n",
            "RİZE MÜZESİNDE BULUNAN BİR GRUP İSKİT TİPİ OK UCU\n",
            "According to the information we have obtained from written and archaeological sources, Cimmerians and Scythians, known as warrior mounted tribes, started to enter Anatolia through the Caucasus since the 8th century BC. These tribes, who first encountered the Urartians in Eastern Anatolia, entered into political and military struggles with the Assyrian, Phrygian and Lydian states. Cimmerians and Scythians, who found their place in the written documents of these states, also left various archaeological materials behind. One of these materials is the arrowheads, which are the subject of the study and known as \"Scythian Type\". A group of arrowheads, which is one of the archeological data showing the distribution area of the Cimmerians and Scythians in Anatolia, is also registered in the inventory of the Rize Museum. Some of these arrowheads, some of which are known to have come from Tokat/Zile, are also unknown. These arrowheads were brought to the Rize Museum by purchasing. In the study, 12 Scythian arrowheads in the Rize museum were basically cataloged, its typology was examined and its analogy was made with other Scythian arrowheads in Anatolia.\n",
            "26.08.2022\n",
            "GÖKTÜRK DÖNEMİNE AİT NADİR SUNAK ÖRNEKLERİ (SUNAK TAŞI/ALTAR)\n",
            "In this study, it is informed about the altars especially Kül Tegin and Nomgon I altars which were unearthed during archaeological excavations around Bilge Khagan’s monument site in 2001-2004. Depending on the cult of ancestors, the large granite altar stone in the oblation area, where the sacrifice ritual is performed, will be examined. The photographs were taken for the first time in course of overburden in Bilge Khagan’s monument site by L. Gürkan GÖKÇEK. As stated by Ahmet TAŞAĞIL, the photographs are historical documents. One of the main purposes of this study is to publish these photographs that emerged after 21 years.\n",
            "26.08.2022\n",
            "RUPEN HANEDANINDA SİYASETİN GÖLGESİNDE YAPILAN EVLİLİKLER\n",
            "Marriage, which is the smallest structural unit of the society and where the foundation of the family was laid, was made a part of politics by the states and implemented. There are many reasons for attempting marriage between states, and many factors can be listed, such as ending wars, the continuation of peace, acquiring allies, and being able to leave an heir. Starting from the 11th century, in the Rupen dynasty that emerged in Çukurova, political marriages were made in order to gain strong allies and dominate the region starting from the baron Constantine. Relationships were established with the Latin kingdoms, the Byzantine state of Nicaea, and the Crusader counties by exchanging daughters. In addition to political and military reasons, the desire of the Crusader counts to obtain financial benefits through dowry was also effective in the marriages, most of which were with the Crusader counts and Latin kings. Marriages, where arbitrariness was not in question, could start and end under certain conditions under the control of the church. In this study, the purposes, processes and termination of marriages performed by the Rupen dynasty that emerged in Çukurova were discussed.\n",
            "26.08.2022\n",
            "16. YÜZYILDA OSMANLI DEVLETİ’NDE ZİRAİ ÜRETİMİ ETKİLEYEN FAKTÖRLER ÜZERİNE BİR DEĞERLENDİRME\n",
            "16th Century was the period in which the significant event and changes took place in the Ottoman Empire. These developments, such as military movements, population growth, little ice age, and their effects were evaluated in some researches. However, very little has been said about the direct or indirect impact of all these factors on agricultural production, leaving gaps or not saying anything about the role of the little ice age. In this article, the question of how Ottoman agricultural production was influenced by these developments has been examined. The shift at the production of the wheat, that was the basic nutritional source, and the barley, which was one of the most significant nutrients for the animal used as a mount or draught, was based on. Comparing the production of wheat and barley in the first and second half of the 16th century and evaluating the result showed the role of these effects. Therefore, the wheat and the barley production were independent of each other as regards to their output was concerned, while, in most case, wheat was lost its cultivation area the output of barley increased, depends on the region they cultivated.\n",
            "26.08.2022\n",
            "I. SAADET GİRAY HAN DÖNEMİNE AİT RUS ARŞİVLERİNDE BULUNAN İKİ AHİDNAMENİN TERCÜMESİ VE TAHLİLİ\n",
            "Russian embassy reports are one of the most important sources we have to illuminate the early period of the Crimean Khanate, and the embassy reports must be examined. For this reason, we translated and analyzed two ahidnames prepared between the Moscow Principality and the Crimean Khanate of the Saadet Giray Khan I period, which we obtained from the RGADA (Rosskiyskiy Gosudartstvennıy Arhiv Drevnih Aktov/ Russian State Archive Old Correspondence Department) Archive in Moscow as a result of various difficulties. We wanted to contribute to the work of the Crimean Khanate in Türkiye, even a little bit. However, Saadet Giray Khan I period is briefly described, since we think that it would be wrong to give a direct translation of the documents without explaining the conditions of the period and without explaining why the ahidnames were repeated at short intervals. After giving information about the period, the translation of two ahidnames was added to the end of the study.\n",
            "26.08.2022\n",
            "ETNİK KİMLİĞİN DİL VE DİN TEMELİNDE İNŞASI: GAGAUZ ETNİSİTESİNE YÖNELİK BİR ANALİZ\n",
            "Multi-religious-linguistic geography of residence, historical developments, political influence struggles between different states and non-uniform cultural distinctions make ethnic identities controversial. One of the identities in question belongs to the Gagauz. The fact that they use Turkish as ethnic language as opposed to the Orthodox communities and that they have adopted the Christianity unlike the Turkic ethnic communities that are generally Muslim makes this ethnic community remarkable in scientific terms. In this context, the inferences on the Gagauz identity are put forward through language and religion, which ultimately realize the cultural conveyance, construct the ethnic identity and ensure the ethnic continuity. This qualitative study based on primary and secondary sources aims to examine the Gagauz ethno genesis and ethnonym, the most fundamental indicators of the ethnic identity of the Gagauz, specifically from the aspect of language and religion. In line with the effort to introduce a more consistent study on the Gagauz ethnic identity, dimensions of ethnicity such as ethnic history, ethnic motherland and ethnic culture, which take up an important place also in other ethnic studies, were included as research object in this study.\n",
            "26.08.2022\n",
            "İRAN’DA İNCU HANEDANI (ÂL-İ İNCÛ / İNCÛLULAR) (1325-1357\n",
            "In the last period of the Ilkhanid state, local dynasties started to act independently and established local dynasties in the Ilkhanid lands. Injuids, one of these local dynasties, was founded by Sharaf al-Din Mahmud Inju. Sharaf al-Din Mahmud was appointed as inju to the Fars region by the Ilkhanid ruler Öljaitü. He, who gained strength both economically and politically in a short time, took over the administration of Fars province and declared its independence in 1325. His activities caused to have problems with the Ilkhanid ruler Abu Sa’id Bahadur Khan. Sharaf al-Din Mahmud was killed in 1336 by Arpa Khan, the successor of Ebu Said Bahadır Khan. After his death, there were struggles for the throne between his sons Jalal ad-Din Mesud Shah, Ghiyath al-Din Kaykhusev, Shams al-Din Muhammad and Abu Ishaq. In the end, Ghiyath al-Din Kaykhusev, Jalal ad-Din Mesud Shah and Abu Ishaq ruled the Injuids in turn.\n",
            "During the independence period of about twenty-two years, the Injuids had various struggles and relations with the Ilkhanids, Chobanids, Celayirids and Muzafferids. The Injuids struggled mostly with the Muzaffarids. Because Incuids and Muzafferids were neighbors and they wanted to have the same lands. During the reign of Abu Ishaq, the last ruler of the Injuids, the struggles with the Muzaffarites had reached a peak. At the end of this struggle, the Injuids were destroyed by the Muzaffarîs in 1357. Despite its short political life, the Injuids has influenced the political, economic and socio-cultural history of Fars province.\n",
            "26.08.2022\n",
            "BİR ÂDEMİYET ANLATISI OLARAK VESÎLETÜ’N-NECÂT\n",
            "Osmanlı dönemi Türk edebiyatında Hz. Peygamber’i konu edinen birçok dînî-edebî tür ortaya çıkmıştır. Hz. Peygamber’in doğumunun, mi’râcının ve ahlâkî özelliklerinin anlatıldığı mevlid türü bu dinî-edebî türler içinde birçok müstakil örneği bulunması açısından oldukça önemlidir. Bu türün Türk edebiyatında en meşhur örneği ise Süleyman Çelebi tarafından XV. yüzyılın hemen başında telif edilen Vesîletü’n-Necât isimli mesnevîdir. Vesîletü’n-Necât, sosyal ve siyasal işlevi açısından ehl-i sünnetin tasavvufî yorumuyla Osmanlı topraklarında itikâdî ve siyâsî birlikteliği sağlamaya çalışan bir metindir. Bu hususiyetiyle Vesîletü’n-Necât Osmanlı topraklarında yaşayan insanlar için istikamet tayin eden öncü ve kurucu metin şeklinde tavsif edilmiştir. Bununla birlikte muhtevâsı itibariyle tasavvufî düşünce zemininde telif edilen eser, Hz. Peygamber şahsında kaleme alınmış bir âdemiyet anlatısı olarak karşımıza çıkar. Vesîletü’n-Necât’ın zeminini oluşturan tasavvufî düşünce sisteminde Hz. Peygamber, yegâne insân-ı kâmil olarak tasavvur edilir. Hz. Peygamber, insan nev’inin en mükemmel varoluşunu temsil eden Hz. İnsan’dır ve maddî ve manevî şahsıyla bütün bir âdemiyeti temsil etmektedir. Bu yönüyle Vesîletü’n-Necât’ı ademiyetin Hz. Peygamber şahsında anlatıldığı bir meta-anlatı olarak ele almak mümkündür. Vesîletü’n-Necât’ı bugün Anadolu toplumu içinde hâlâ popüler kılan önemli sebeplerden birisi, sahip olduğu dilsel ve sanatsal özellikler kadar eserin Hz. Peygamber’in şahsında evrensel bir âdemiyet anlatısı hüviyetine sahip olması, yaratılışa ve varoluşa ilişkin sorulara verdiği cevaplarla âdemiyeti anlamlandırmasıdır.\n",
            "26.08.2022\n",
            "SÜLEYMAN HÜSNÜ PAŞA’NIN TARİH-İ ÂLEM’İNİN (1876) İKİ BÖLÜMÜ ÜZERİNDEN ESKİÇAĞ TARİH YAZIMININ DEĞERLENDİRİLMESİ\n",
            "Some reforms were carried out in the Ottoman Empire in the 19th century, and naturally these reforms had impacts in the field of education. For example, the change in the understanding of history began to bear fruit in the field of history education after the second half of the 19th century. In this context, a course entitled General History was included in the curriculum of secondary and higher education institutions. The content of this course was not only limited to the history of Islam and the Ottoman Empire, but also took the form of a world history that undertook to deal with the histories of different geographies and nations. In this period, textbooks began to be prepared in accordance with the new curriculum. One of them is Tarih-i Alem (History of the World), which was prepared by Süleyman Hüsnü Pasha to be taught in the second year of military high schools. Published in 1876, the book is among the first general history textbooks written in the Ottoman Empire. The content of the book is restricted only to ancient history. Old and new methods, traditional and modern understanding of history and narratives, Eastern and Western sources and historical approaches are all blended in the History of the World. In this study, the content, format and method of Tarih-i Âlem will be analysed, and it will be examined why a standard was not (or could not be) applied in the method and in the selection of the subject and content. For this purpose, two sections with different traditions of historiography were chosen as examples. One of them is the Ezmine-i Evveliye section, where understandings of traditional history and sacred history is represented, and the other is the Asya-yı Suğra section from the chapter entitled Ezmine-i Esâtiriye, which is closer to the modern understanding of history. The transliteration of both parts in the Latin alphabet is given in the appendices section.\n",
            "26.08.2022\n",
            "NÜFUS VE TEMETTÜAT DEFTERLERİNE GÖRE ÇİRMEN KAZASI KOVANCILAR VE GÖLCÜK KÖYLERİ (1844-1845)\n",
            "In the studies of Ottoman history, population and dividend books prepared in the XIX century provide important data in social and economic history studies. In this article, the demographic and social structure and economic status of Kovancılar, a Muslim village, and Gölcük, a non-Muslim (zimmî) village, located in the Çirmen district, which was an essential district in Ottoman Rumelia, has been examined comparatively. The primary sources we use are the population and dividend books of the said villages. Accordingly, the main livelihood of Kovancılar village of 26 houses is agriculture and animal husbandry. In the non-Muslim village of Gölcük, which has 14 houses and has a higher income, coal is the most important source of income. Under the new tax system introduced by the Tanzimat, a tax named apportioned tax was collected from both villages, apart from religious taxes. It is observed that Tanzimat's principle of taxation in accordance with everyone's level of income was applied in these two villages located in Rumelia. The total annual income of Gölcük village, which has less population, is higher than Kovancılar village. Gölcük village obtains the majority of its total annual income from coal mining. However, more than half of the total annual income in Kovancılar village is obtained from agriculture and animal husbandry.\n",
            "26.08.2022\n",
            "SOVYETLERİN İSLAM POLİTİKASI VE ORTA ASYA’DA DİNİ İDARE (1943-1990) ZHOLDASSULY, Talgat (2022), Sovyetlerin İslam Politikası ve Orta Asya’da Dini İdare (1943-1990) Leiden: Sota Yayınları ISBN:978-90-6921-058-2, 223 s.\n",
            "2007 yılında Korkut Ata Kızılorda Devlet Üniversitesi Tarih ve Hukuk Fakültesinde Tarih bölümünden mezun olan Talgat Zholdassuly, daha sonra İçişleri Halk Komiserliği’nin Kuruluşu ve Faaliyeti (1934-1953) (Sovyet Dönemi) isimli çalışmasıyla 2008 yılında yüksek lisans tezini başarıyla savunmuştur. 2021 yılında Selçuk Üniversitesi Sosyal Bilimler Enstitüsü Tarih Anabilim Dalında, Orta Asya ve Kazakistan Müslümanları Diniye Nezareti (1943-1990) isimli teziyle doktor unvanı alan yazarımız, bu tezini Sovyetlerin İslam Politikası ve Orta Asya’da Dini İdare (1943-1990) adıyla kitap haline getirerek 2022 yılında okurlara sunmuştur.\n",
            "26.08.2022\n",
            "Türk Veteriner Hekimliği Tarihinde Aforizmalar\n",
            "Aphorism (özdeyiş, özlü söz, vecize, ülger, kelamıkibar, aforizm, motto) is defined as a word that tells a thought in the shortest and most precise way and whose utterance is clear. Regarding the veterinary profession, the great statesman İsmet İnönü’s aphorism “It can be said that human medicine is like an inland sea against the ocean next to veterinary medicine” and the National Poet Veterinarian Mehmet Akif Ersoy’s aphorism “It makes sense to you if you experience it, we need a veterinarian more than a human doctor.” These aphorisms are at the forefront of the aphorisms that have been passed down from generation to generation and are known by every member of this profession. During the study of works related to the post-Republican period in Turkey; It has been determined that it is a vocabulary worthy of research in terms of beauty of expression, power of expression, and conceptual richness. In this study, it is aimed to bring these meaningful words of veterinary medicine elders and statesmen to veterinarians by extracting them from the dusty pages of history. While selecting the aphorisms, attention was paid to ensure that they were suitable for the aphorism structure in terms of technical grammar. 37 aphorisms that express from the owner, are short and express judgment have been recorded. It is thought that these meaningful words, which are presented neatly in the study, are important in terms of showing our colleagues a bright way. It can be argued that aphorisms can be useful by being evaluated in student classes, vocational anniversaries, academic opening and graduation ceremonies, etc.\n",
            "20.08.2022\n",
            "Çivi Yazılı Kayıtlardan Antik Yunan Kaynaklarına Efsaneleşen Anadolulu Kral Adı Mita/Midas\n",
            "Mushkians/ Phrygians, their capital Gordion (Polatlı-Ankara), and their famous king Midas had a profound influence on Anatolian cultural heritage among the ancient Anatolian civilizations. Especially during the Hellenistic period, the Phrygian king Midas, who was the subject of myths with his legendary aspects, was also a subject of curiosity in terms of both the Phrygians’ presence in Anatolian political history and the king’s actions. The earliest source related to the name of king Midas was provided by the Mita of Pahhuwa texts, recorded in Hittite cuneiform dating to the end of the Middle Hittite period. Following these texts, the name Mita the king was found in Assyrian cuneiform records after the middle of the 8th century BC. In these records, the king, referred to as Mita of Muški, was transferred as a powerful leader figure, one of the determinants of Anatolian politics. The name of the king, written as Mita in the Hieroglyphic Luwian records dated to the same period, was referred to as Mida in the Old Phrygian inscriptions, and the King Mida was usually recorded in the texts of religious practices. This study aimed to examine Mita, the name of an Anatolian king, historically and linguistically with primary sources; and also included the transfer of both the political and legendary existence of the kings who used the name Mita/ Midas in the historical process.\n",
            "11.08.2022\n",
            "Osmanlı Döneminde İzmir’den Yapılan İhracatın Analizi (1774-1776)\n",
            "This study aims to create a sample for the years 1774-1776, based on six archive books (customs books) regarding the Ottoman Empire’s exports from Izmir. The main question of the study can be expressed as “what were the structural features of the Ottoman exports from İzmir Fruit Customs in the mentioned years?” For this purpose, the ports to which 244 exporting ships carried goods from İzmir Fruit Customs in the said years; the flags of these exporting ships and 2,563 pieces of export goods belonging to 1,487 merchants were examined numerically and in terms of tax figures. The results of the research show that the Ottoman exports were mainly directed to France, England and Dutch ports; French, Venetian, English and Dutch-flagged ships were used in these exports; the export goods consisted of raw cotton, yarn, raw materials and chemical goods. These results partially verify the findings of some previous studies using similar sources. However, it should be taken into account that the results obtained are a kind of sample and that long-term series should be examined in order to make generalizations.\n",
            "11.08.2022\n",
            "Osmanlı İmparatorluğu’nun Son Yıllarında Yabancı Ülke Bayraklarının Kullanımı ve Denetimi\n",
            "The presence of foreign flags in the Ottoman Empire became widespread in the last years of the empire. The symbolical values that those flags had and current developments resulted in different evaluations and practices by the individuals with different identities as well as institutions regarding those flags. While the flag referred to a visual symbol of their identity and belonging for individuals, it was an expression of a threat to sovereignty for the rulers if they were used out of official institutions and without permission. The increase of foreign effect on the Ottoman geography in the 19th century in terms of politics and daily life as well as separatist threat caused by independence movements made it a sensitive issue for the state to inspect and prevent the presence of foreign flags. Although the steps taken by the authorities in this respect had an ongoing background, permanent solutions could not be generated. The archival documents, reflect the rules and inspection procedures determined by officials for the use of foreign flags at public institutions and private properties. Travel books, memoirs and newspaper reports allow examining the values people attribute to flags and producing a special narrative from the perspective of an individual. In the research, it was identified that the policy of the empire for foreign flags changed over time due to legal texts and actual circumstances and as a result of these developments, some practices that were tried to be prevented as violations for a long time were then accepted legitimate\n",
            "11.08.2022\n",
            "Bee Houses as a Rural Construct: Sampling from Konya, Türkiye\n",
            "Arıcılık kültürünün tarihsel ve coğrafi sürekliliği içinde, kovanların depolanması ve arıların kullanması için kırsal bir yapı tipolojisi gelişmiştir. Arı kovanı olarak bilinen ve arıların bal üretmek için kullandıkları birimlerin depolandığı barınaklar olan arı evleri, kırsal bağlamın yapı yapma dinamikleriyle uyumlu, çevre estetiği içinde bir kimlik öğesi oluşturan ve peyzaj içinde görünürlüğe ve özgün siluete sahip küçük ölçekli yapılardır. Bu yapıların mimarisi, malzeme, yapı mantığı ve mimari tasarım açısından farklılık gösterir; bu anlamda bu yapılar tektonik nitelikleri ile tipolojik bir çerçevede incelenebilir. Bu çalışma, arı evini kırsal bir mimari yapı tipi olarak ele almakta, örneklemekte ve bu yapı türünün konstrüksiyon kurgusunu ve yapısal mantığını “tektonik” ve “sözdizimi” kavramları üzerinden okuyarak tipolojik bilgiyi anlamlandırmaktır. Tartışmayı örneklendirmek için, Konya ili sınırları içindeki kırsal alanlarda yapılan saha araştırmalarında tespit edilen ve belgelenen bir grup arı evi bağlam olarak kullanılmış, belgelenen örnekler yapım tekniklerine göre sınıflandırılarak tipoloji oluşturulmuştur. Karşılaştırma amacıyla tipolojinin altlığını oluşturan Antalya örneklerinden kısaca bahsedilmiştir.\n",
            "11.08.2022\n",
            "Yerel ve Devşirme? İki Kimlik: Hemithea ve Eileithyia\n",
            "The purpose of the study is to question the connection of Hemithea and Eleithyia, who appear in two sectors (Bybassos and Phoinix) lying to the north and south of the Karian Bozburun Peninsula, and have similar roles and functions though coined under two different names, in the light of the epigraphical corpus (votive inscriptions) that are directly related to the goddesses, ancient accounts, mythological constructs and etymological probabilities partially based on historical geography. The origins of the sites, which are interrogated in terms of etymology and topography and associated with the earthly goddesses named under several epithets, especially in the ancient Mediterranean, show that, the remote memories spread over the Anatolian geography must be the reflections of some common codes in the lands settled. Moreover, even though they belong to separate geographies, the two sanctified towns (Kastabos identified with Hemithea and, Kastabala near Hemite) having the social gathering/market functions and “feminine” identities, can be assumed as agents of such a memory and may even refer to the invisible bonds of the ancient communities of Anatolia (since the Late Bronze Age). The Bozburun Peninsula, as can be understood from the herbal practices supported by ethnobotanical findings in relatively distant regions such as Cilicia, should have been a region that offered treatment and wellness alternatives on its own, depending on the richness of flora with high medicinal value. Its relation with the issues of health is not restricted to the northern and southern parts, however needs to be considered in its entirety, where remedies were offered in all the other demoi, like the midmost settlements- Syrna and Hydas. By all appearances, the region possessed certain centers that provided local solutions in the matters of the women’s and children’s health, procreation, miscarriage, etc. or painless delivery. Special prescriptions, enkoimesis enforced with sedative preparates, psychotherapy, even curative sorcery practiced in the name of Hemithea and Eleithyia, as the diverse manifestations of the transdivinity Artemis and, even Apollo, must have been used and applied in these centers.\n",
            "11.08.2022\n",
            "James Howard-Johnston, The Last Great War of Antiquity, Oxford University Press, Oxford 2021, xix + 446 sayfa, ISBN: 978-0-19-883019-1. [Kitap Tanıtımı]\n",
            "Geç Antik Çağ’da İran dünyasına hâkim olan Sâsâni hanedanı ve bu hanedanın Roma ile ilişkileri bilhassa batıda tarih çalışmalarında gittikçe artan bir ilgi görmektedir. Türkçe akademik tarih literatürü Roma tarihi hakkında kısmen de olsa bir farkındalık göstermesine karşın, Sâsâni tarihinin önemini pek fark etmiş değildir. Günümüzde Avrasya ve Ortadoğu diye bilinen bölgelerin hakimleri olan bu hanedanın tarihi, kendi münferit tarihi kadar, İslam öncesi Türk tarihi (Göktürk, Avar, Hazar), İslam’ın doğuşu ve Doğu Akdeniz ile İran’daki hızlı fetihlerinin, Avrupa Orta Çağı’nın ve elbette üzerinde yaşadığımız Anadolu tarihinin bütünleyicisi olarak da önemlidir. MS 224-651 arasında faal olan Sâsâni İran’ının yarattığı kültürel etkinin yankıları üç dört yüz yıl sonra eserlerini kaleme alan Taberî ve Firdevsî gibi yazarları hem tematik hem de perspektif olarak derinden etkilemiştir. Bu bağlamda “Antik Çağ’ın son büyük savaşı” diye adlandırılan bir “dünya savaşının” tarihi, yukarıda söz edilen bütün alanlara temas etmesi nedeniyle bir laboratuvar çalışması gibi ele alınmayı hak etmektedir.\n",
            "11.08.2022\n",
            "Ebediyete Bağış: Balat Şer‘iyye Sicillerinde Para Vakfı Kayıtları\n",
            "In the Ottoman State, also named as the Waqf Civilization, services like education, health, public works, municipality, religious affairs, and social security that are the sources of human and social capital and that need to be performed by a social state were supplied by the contribution of the waqf institution. The information related to the prevalence, comprehensiveness, and management procedures can be accessible by means of examining the content of the endowments that have survived until today. In these endowments, various types of information such as assets, architectural works of art, the related staff, legal transactions, and the family members of the waqf founder can be reached as well. Especially the architectural works which have gone missing make the analyses of endowments quite important. In the endowments belonging to cash waqfs, details regarding the endowed cash, management procedures, accretion rates, and use of revenues to be acquired are also available. The aim of this study is to put forth the operation principles of cash waqfs and study the socio-economic contributions of these waqfs to the Ottoman social life. The İstanbul Balat Courd Records in which 55 cash waqfs were included between 1555-1838 have been assigned as the research topic of this study. Through the addition of three different court outputs analyzed in the same format for the purpose of comparing the obtained findings, 426 cash waqfs established between 1491-1911 have been evaluated once again. Thanks to the comparison of the cash waqf endowments by four courts, this study has provided an opportunity for a collective assessment that has not been performed up to now with regard to the number of endowments and the periods they extended in. In consequence, the sort of efforts exerted by the cash waqfs in adapting to the changing socio-economic circumstances so as to sustain their services have been identified in this research study. In this context, while the changes and transformations that the cash waqfs underwent within themselves have been detected on the one hand, the donations made by the waqfs to eternity as part of a whole have been exemplified on the other.\n",
            "11.08.2022\n",
            "Sultan II. Abdülhamid’in Başkâtibi Tahsin Paşa\n",
            "During the reign of Abdulhamid II, Yıldız Palace became the decision centre of the state, and Palace came to the fore. During this period, all the affairs between the external world and the Palace were administered through the Mabeyn-i Hümayun Başkitabeti. Tahsin Pasha was appointed as the First Secretary of Mabeyn-i Hümayun, which was such an important office, by Abdulhamid in 1894. Pasha, who continued this duty until 1908, was arrested after the proclamation of the Constitutional Monarchy and was imprisoned in the Bekirağa Troop. He was transferred to Büyükada on September 3, 1908, where he was kept under surveillance. After the March 31 Incident, his property was confiscated with the decision of the Meclis-i Vükela on May 28, 1909; his rank, insignia and medals were cancelled, he was deprived of his retirement right and exiled to Chios. When the danger of the Greek invasion of the island arose, Pasha was sent to Izmir on May 27, 1912. On February 11, 1913, he was allowed to return to Istanbul after the general amnesty for political criminals was issued. From this date until 1933, he continued his life in a state of poverty in Istanbul, constantly looking for debt. He also lost his last remaining properties on these dates. Since 1930, he published his memoirs in the journal of Milliyet in serial form. Tahsin Pasha, who completed his life loyally to Abdulhamid II, passed away on January 22, 1933, in his mansion in Erenkoy. His funeral was buried in the family cemetery in Eyup, Istanbul. In this study, the place and role of Tahsin Pasha in the administrative system of Sultan Abdulhamid as the first secretary of the Mabeyn, about which no academic study has been done so far, will be examined. At the same time, the life of a statesman who continued his loyalty to Sultan Abdulhamid after the proclamation of the Constitutional Monarchy until his death will be revealed.\n",
            "11.08.2022\n",
            "Kazova’da (Dazimonitis) Yeni Keşfedilen Basamaklı Tünelli Bir Pontos Krallığı Kalesi: Dereköy Kalesi\n",
            "Dazimonitis, which Strabo describes as a fertile plain through which Iris flows, was the name of today’s Kazova in Antiquity. Although Dazimonitis was included within the borders of the Pontic Kingdom at the beginning of the Hellenistic Period and within the borders of Rome towards the end of this period, it continued to be the property of the semi-autonomous Komana temple state during that period. However, it appeared that Dazimonitis also had a role in the struggle between the Pontic Kingdom and Rome. During the Third Mithradatic-Rome War, Mithradates VI was known to try to destroy the food supply provided by the plain, thus weakening the Roman army. A fortress, which has not been scientifically studied so far, located in the mountainous part of south Kazova and on a hill on a strategic road connecting Pazar district to Sivas province via Artova, revealed that Dazimonitis did not only serve that purpose. The fortress, located in Dereköy and named after the village, allowed us to examine during our archaeological study in 2019 in Pazar district, situated on Kazova, attracting attention with its stepped tunnel. Thus, discovering a new fortress of the Pontic Kingdom in Dazimonitis led to a hitherto unknown part of the network of fortresses, the arteries of the defense system of this period revealed in the region’s history. This study aims to show the place, importance, and function of the fortress in that period.\n",
            "11.08.2022\n",
            "Antalya Kaleiçi Panhagia Kilisesi ve Câmi-i Cedid\n",
            "Antalya Kaleiçi Panagia Church, the Episcopal center in the Byzantine period, remained open to the Christian community for worship until the sixteenth century, when it was converted into a mosque. After the church was turned into a mosque by Sultan Bayezid II’s order, it was named New Mosque (Câmi-i Cedid). The church’s conversion into a mosque, which was used as a church for a long time during the period of Islamic rule and was mainly inhabited by the Christian Orthodox population, caused contentions between the two communities with the effect of the changes in the demographic structure of the city. After the church was converted into a mosque, it served as a place of worship for about four centuries. At the end of the nineteenth century, it was burned and abandoned. This article aims to understand the transformation of Panaghia Church and New Mosque as it was called in the early twentieth century in the Ottoman period and the process that resulted in its abandonment. The existing literature was subjected to a critical analysis to understand this process, and historical sources were re-evaluated. In addition, under conditions of insufficient resources, the mosque’s importance in different periods was tried to be revealed, based on the mosque’s position in the city religioscape and demographic structure of the city.\n",
            "11.08.2022\n",
            "Çarlık Rusya’nın Kafkas Hattı’nı İnşası ve Kuzey Kafkasya’da Hâkimiyet Kurma Mücadelesi\n",
            "The Caucasus Line has an important function in the spread of Tsarist Russia in the Caucasus and to establish a long-term rule. In this study, the structure, features and advantages of the line, which is connected with the fortified settlements (stanitsa), for the Russian domination in the region are examined. The Russian settlement of Cossacks on the banks of the Kuban and the Terek rivers and the castles built on the line are very important for the administrative-military order in the region. These activities of the Russians aimed at breaking the contact between the Ottoman Empire and the North Caucasus through the Crimean Khanate. The construction of these fortresses by the Russians in Terek in the 16th century turned into a diplomatic crisis between the Ottoman Empire and Russia. The construction of the Georgian Military Road from Vladikavkaz to Tbilisi also played an important role in the Russian landing in the South Caucasus. This road is also the main route where Tsarist Russia conducted military operations against mountain peoples it wanted to subordinate to ensure its dominance in the mountainous regions. Russia has also organized numerous expeditions to the mountainous regions of the Caucasus for the safety of this road, where communications and military dispatches are carried out. This article examines the campaigns of General Velyaminov, who commanded the Caucasus Line for many years, and Baron Rozen, the Commander-in-Chief of the Russian Armies in the Caucasus, between 1831-1832.\n",
            "11.08.2022\n",
            "Friendship and Rivalry: Local Relations and Cultural Environment in Constantinople and Nicomedia in the Light of Libanius' Orations and Letters\n",
            "Nicomedia and Constantinople, the two largest cities of the Roman Empire on the Marmara  coast,  drew  attention  as  very  rich  and  developed  metropoleis  in  the  3rd  and  4th  centuries.  These  two  cities,  which  were  successor  capitals,  also  attracted  the  aristocrats,  scholars,  orators  and  statesmen  of  the  period  with  their  cultural  environment. The sophist Libanius of Antioch, who lived in both these cities, gives very valuable information about these cities. Orations and letters of Libanius provide quite  detailed  information  on  remarkably  interesting  topics  such  as  friendship  relations, local rivalries and factions, schools, educators, social networks and the local policies of the emperors in these two great cities. By putting Libanius in the center, this study aims to show the local relations in Constantinople and Nicomedia in the 4th century, as well as the socio-cultural environment and the differences between these  cities.  In  addition,  the  contributing  factors  of  the  cultural  environment  that  allowed  Nicomedia  to  compete  with  Constantinople,  the  new  residence  of  the  emperors, until the devastating earthquakes in Nicomedia, were also discussed.\n",
            "04.08.2022\n",
            "Bektaşi Tarikatına Ait Bir Halifelik Tıraş Erkânnâmesi: “Menzil-i Hilâfet Tıraş-ı Erkân”\n",
            "In Bektashism, there are three ceremonies practised in shaving  by Bektashi erkans. Among these three ceremonies, a shaving ritual for those who have reached the caliphate is included. The subject of our article is the section named “Menzil-i Hilâfet Tıraş-ı Erkan”, which is included in the manuscript named “Erkan-ı Sultâ(n) Abdâl Musa”, registered with the number 06 Hk 4284 in the Ankara National Library Ötüken Public Library. There are four chapters in the work, which were written in Nesih script. The titles of the chapters in the manuscript are “Haza erkan-ı Sultâ(n) Abdal Musa”, “Cennet ül Esma”, the third title opened as “Bab”, and finally “Menzil-i Khilafah Tıraş-ı Erkan”. The section named “Menzil-i Khilafet Tıraş-ı Erkan”, as the name suggests describes the caliphate for those who have reached the caliphate. There is no doubt that this order, which is located between pages 11b-17b of the manuscript, is a caliphate shaving order. In our study, transliteration of this manuscript written in Ottoman Turkish was made. In addition, by analyzing and evaluating the content of the work, it has been tried to reveal the caliphate shaving order and its features, which is one of the ceremonies in which the shaving method is applied in Babagân Bektashism.\n",
            "02.08.2022\n",
            "1980 Darbesinden 28 Şubat Post Modern Darbe Süreci ve Sonrası Giresun’da Milli Görüş Hareketi: Refah Partisi\n",
            "Necmettin Erbakan, supported in Turkey by those who considered themselves as more conservative and religious, had the opportunity to serve the people of Turkey in the capacity of Deputy Prime Minister before 1980. Erbakan's new discourse had won him the favor of the public; however, in the wake of the 1980 military coup, his party was closed down and he, along with most of his close colleagues, was banned from politics. After his party, which was a party with a cause rather than an ordinary one, was closed down, he tried to keep his sympathizers united and active by developing various arguments in order to preserve his electorate in the newly developing conditions. In conjunction with the transition from martial law to democracy, the National Vision Movement continued its course in the political arena with the Welfare Party. Necmettin Erbakan cultivated a new discourse in politics with the motto of \"Fair Order\" by successfully analyzing the economic developments in the world after 1980. His promise to make Turkey a strong and prominent country, his ideals of Islamic unity, his discourse of nationalism, anti-imperialism and anti-Zionism were accepted by the public. Additionally, his more comprehensive and Pan-Islamist stance compared to the religious jamaats and sects, and the fact that he undertook to be the voice of the people who suffered in the slums following rural-to-urban migration, strengthened the movement. The Motherland Party, founded by Turgut Ozal, who had been the National Salvation Party's Izmir candidate for the parliament before 1980, faced some difficulties while coming into power after 1980, following the military administration. Erbakan surpassed those difficulties, acquired a position in the government as the prime minister of the coalition in 1996 and served the nation. This study explores the establishment and structuring of the Welfare Party, a continuation of the National Vision Movement, in Giresun, as well as the process of its coming to power and later being removed from it. The first elections the Welfare Party took part in were the local elections of 1984, and although the votes it received were below the country average that year, the party increased its vote rates in all subsequent elections and received more votes than the Turkey average in Giresun. The reasons behind this success are that women, who had not been active in politics before 1980, began to participate more, the media was used more effectively, and Giresun was not affected by the conflict between religious sects and politics. This study will examine the efforts of the National Youth Foundation, established as the youth organization of the movement, and other non-governmental organizations during and after the February 28, 1997 post-modern coup process in the context of Giresun.\n",
            "02.08.2022\n",
            "MILITARY ADVISORY MISSIONS AND THE TURKISH PROFESSIONAL MILITARY EDUCATION: AN UNEASY RELATIONSHIP\n",
            "Bu makale Türk modern askeri eğitim sisteminin kuruluş ve gelişimini askeri yardım misyonları çerçevesinde incelemektedir. Söz konusu misyonlar hem dönemin genel şartları hem de subay sınıfının yeniliği kabullenme derecesinden etkilenmiştir. Bu anlamda 19. yüzyılın son döneminde göreve başlayan Alman Askeri Yardım Heyeti, askeri yenilgiler dolayısıyla yeniliğe açık bir subay sınıfı ile karşılaşmıştır. Buna karşın 2.Dünya Savaşı sonrasında faaliyet gösteren Amerikalılar ise ülke kurmuş muzaffer bir ordunun statükoya sıkı sıkıya bağlı ve değişime dirençli subayları ile muhatap olmuşlardır. İki ülke askeri yardım misyonlarının içinde bulundukları farklı durumlar askeri eğitim-öğretim sisteminin değişimine de doğrudan etki etmiştir. Ayrıca bu araştırma, Türklerin her modelin daha az avantajlı yönlerini, yani Alman elitizmini ve ezbere dayalı Amerikan öğretim ilkelerini benimsediklerini göstermektedir. Arşiv kaynakları, subay anıları ve hatta kurumsal uygulamalar bu bulguları doğrulamaktadır. Modern askeri eğitim sisteminin genellikle kriz durumları ile birlikte değiştiği, ancak bu değişimin eski sistemi tamamen ortadan kaldıramadan sadece bazı yönlerini etkileyebildiği görülmektedir. Bununla birlikte 2016 darbe girişiminden sonra ilk defa ülkeye özgü bir modelin geliştirilebildiğini söylemek mümkündür.\n",
            "02.08.2022\n",
            "Kıbrıs Haçlı Krallığında Seneşaller\n",
            "Kıbrıs’ta XIII. – XV. yüzyıllar arası yaklaşık üç yüz yıl Lusignan hanedanı hüküm sürmüştür. Lusignan ailesinin idari yapılanması diğer Haçlı devletlerininkine benzer şekildeydi. Yönetimi kolaylaştırmak adına krallar devlet kademesinde güvendikleri kişileri görevlendirmiştir. Bu makalede ile Kıbrıs’ta Lusignanlar döneminde görev yapan seneşaller kronolojik sıra ile tespit edilerek incelenmiştir. Seneşaller hiyerarşide ilk sırada yer alan önemli devlet memurlarıydı. Kıbrıs Lusignan Krallığı’nın ilk dönemlerinde seneşal olarak görev yapan kişiler Lusignanlardan ya da önde gelen ailelerden olan Ibelinlerden seçilmiştir. Krallığın son dönemlerine doğru ise Katalan ve İspanyol kökenli ailelerden başka kişiler de seneşal olmuştur. Krallığın ilk dönemlerinde seneşallerin isimlerini tespit etmek zor olmakla birlikte son dönemlerde kralların yaptıkları atamalara kaynaklarda daha açık şekilde yer verilmiştir. Seneşallerin görevleri, kaynaklardaki belgeler incelenerek belirlenmeye çalışılmıştır. Kraliyet ailesinin evlenme durumlarında seneşaller heyetlerde görevlendirilmiştir. Sefere çıkılacağı zamanlarda da kralın temsilcisi olarak yer aldıkları görülmüştür. Buna ek olarak kralın yanında olup, destek olmuşlardır.\n",
            "02.08.2022\n",
            "Sovyet Sonrası Alanda Tarihyazımının Sınırları: Kazakistan, Özbekistan ve Tacikistan\n",
            "Political structures that emerged after great multinational associations seek to find their lost histories\n",
            "in the distant past for the legitimacy of their unique nations. The magnificent pre-colonial sovereignty\n",
            "narrative that will be revealed as a result of this initiative, besides nation building, also creates a\n",
            "motivation element for the solution of current problems and the realization of future expectations. In\n",
            "this operation, history is reduced to a national reinforcement rather than a field of knowledge.\n",
            "Historiography, which acquires a political mission with this pragmatic functionality, takes on an\n",
            "instrumental character in order to search for the roots of art in the past.\n",
            "After the historical function and mission of the Soviet Union ended, the member republics of the Union\n",
            "successively declared their independence. For the legitimacy of these political independences, which\n",
            "rose on the basis of the nation-state, first of all, it was necessary to eliminate colonial influences. For\n",
            "this purpose, the action was taken for the construction/invention process of nations in the\n",
            "decolonization process. The republics found themselves in an effort to create a unique nation,\n",
            "sometimes on the basis of a nominal ethnicity and sometimes on the basis of citizenship. In this\n",
            "construction, a lot of meaning has been attributed to history, which is the main determinant of the\n",
            "post-colonial nation construction, both inside and outside. Under these conditions, historiography in\n",
            "the post-Soviet era - as in the Soviet period - turned into a political apparatus.\n",
            "Although the newborn republics tried to get rid of the colonial mentality practices in the post-Soviet\n",
            "nation-building process, each of them had challenges moving away from the orbit of territorial\n",
            "thinking due to their own internal dynamics. This was also partly related to the political choices that\n",
            "republics preferred in the face of cyclical situations. Each republic, according to its own special\n",
            "situation, made the history of the nation or the history of the country the subject of research and\n",
            "highlighted it. This reference also determined the limits of historiography. While the components of\n",
            "the Kazakh nation are consistently accepted as historical subjects by going beyond the territorial\n",
            "borders in Kazakhstan, some reservations in Uzbekistan caused the continuation of the Soviet-like\n",
            "nationalization policies. In Tajikistan, the search for a lost nation, which started with an expansionist\n",
            "attitude, resulted in a traumatic identity crisis and drift.\n",
            "02.08.2022\n",
            "Sultan II. Abdülhamid ve Sudan Mehdisi\n",
            "Sudan’daki Osmanlı-Mısır idaresi Muhammed Ahmed’in 1881 yılında başlattığı Mehdi İsyanı ile ciddi bir darbe aldı. İngiltere’nin 1882’de Mısır’ı işgalinden sonra Sudan’da Mısır aracılığı ile artan İngiliz nüfuzu da Mehdi Hareketi için adeta pekiştirici bir etki yaptı. Mehdiliğini ilan ederek Sudan’ın ve İslam dünyasının kurtuluşunu kendi mücadelesine bağlayan Muhammed Ahmed girdiği pek çok çatışmayı kazanarak popülaritesini her geçen gün artırdı. Özünde, Sudan’daki birtakım idari uygulamalara karşı tepki olarak başlayan isyan zamanla İngiliz emperyalizmine karşı bir direnişe dönüştü. Osmanlı Devleti Mehdi Hareketi’ni yakından takip etti ancak Sudan’daki olaylara doğrudan karışmak istemedi. Sultan II. Abdülhamid hareketin Kızıldeniz’i aşıp Hicaz’a ulaşmasından kaygılansa da İngilizlerin Sevakin üzerinden Sudan’da ortak harekât düzenleme tekliflerine yanaşmadı. Sudan’a böyle bir müdahalenin uygun olmayacağını ve halifelik makamına zarar vereceğini düşündü. II. Abdülhamid’e göre Mehdi sorununun halli için öncelikle İngiltere’nin Mısır’dan çıkması gerekiyordu. Ne var ki Bâbıâli’nin bu yönde yaptığı girişimler bir sonuç vermedi ve Sudan Osmanlı Devleti’nden her geçen gün biraz daha uzaklaştı. Mehdiciler Mısır-İngiliz askerleri karşısında önemli zaferler kazandılar fakat Muhammed Ahmed’in kurduğu devlet uzun ömürlü olmadı, bir süre sonra İngilizler tarafından ortadan kaldırıldı. Bu makalede Muhammed Ahmed’in ölümüne kadar (1885) Sudan’da Mehdi Hareketi’nin seyri, Osmanlı Devleti’nin Mehdi İsyanı karşısındaki tavrı ve İngiltere’nin bölgedeki hadiselere müdahalesi Türkçe, Arapça, İngilizce kaynaklar ve Osmanlı arşiv vesikaları üzerinden incelenerek değerlendirilmiştir.\n",
            "02.08.2022\n",
            "MARİ MEKTUPLARINA GÖRE KOMUTAN IBAL-Pi-EL'İN ELÇİLİK ROLÜ\n",
            "Mari mektupları, Eski Önasya’nın siyasi durumunu ve diplomatik ilişkilerini aydınlatan en önemli arşivlerdendir. Yine bu mektuplar, Eski Önasya’nın elçilik müessesi hakkında birçok bilgi sunmaktadır. Bu mektuplara göre, krallar ve devletler arasındaki diplomatik ilişkiler elçiler aracılığıyla sağlanmaktaydı. Bu elçiler, çoğunlukla sadece elçilik görevini yürüten profesyonel elçilerdir. Ancak bazı özel durumlarda diğer mesleklerden de elçi seçilebiliyordu. Bu elçiler seçilirken onların öncelikle güvenilir olmaları, bunun dışında coğrafya bilgileri ve diplomasi deneyimleri gibi nitelikleri dikkate alınıyordu. Bu kişilerden birisi de Mari generali Ibal-pi-El’dir. Ibal-pi-El, hem Zimri-Lim’in hem de Hammurabi’nin güvenini kazanması nedeniyle bazı durumlarda elçi olarak görevlendirilmiştir. Nitekim Ibal-pi-El, Hammurabi’nin teşebbüs ettiği her işi daima kendisine söylediğini ve bunları hemen hükümdarına bildirdiğini belirtmektedir. Güvenilir olmak elçi görevlendirilmesinde en başta aranan özellikti ve Zimri-Lim, Ibal-pi-El’e savaş dışında barış ortamında da güveniyordu. Ibal-pi-El’in Hammurabi’nin güvenini kazanmasındaki en önemli etken ise kralın kazandığı zaferlerde büyük katkılarının bulunmasıdır. Özellikle Elam ve Larsa’ya karşı kazanılan zaferlerde Ibal-pi-El’in büyük katkısı olmuştur.\n",
            "01.08.2022\n",
            "19.70298671722412\n",
            "19.553146362304688\n",
            "SCREENING OF ACTINOMYCETES FROM Cystoseira barbata (Stackhouse) C. Agardh COMPOST FOR THEIR ENZYME AND ANTIBACTERIAL ACTIVITIES\n",
            "Bacterial secondary metabolites play an essential role in biotechnological and biomedical applications. Actinomycetes are important bacterial sources of antibiotics and enzymes. Most of the antimicrobials known today have been isolated from actinomycetes, especially from the genus Streptomyces. In this study, actinomycete isolation was performed from Cystoseira barbata (Stackhouse) C. Agardh compost, collected from the Black Sea coast, by serial dilution method. A total of 73 actinomycetes isolates (BSC) were obtained from the compost samples. The ability of the isolates to produce different extracellular enzymes was investigated qualitatively. It was determined that 68.5% of the isolates have amylase, 100% cellulase, 47.9% chitinase, 94.5% pectinase, 98.6% protease and 96.3% lipase/esterase activity. Antibacterial activities of the isolates were investigated primarily using cross-streak method. Isolates showed high antibacterial activities, with 98.6 and 84.9 % against Staphylococcus aureus Rosenbach and Enterococcus faecalis (Andrewes & Horder) Schleifer & Kilpper-Bäl, respectively. Three out of six isolates (BSC-13, BSC-17, BSC-37, BSC-38, BSC-45, BSC-49) with high antibacterial activity, were screened secondarily for their antibacterial activities using double-layer method. At day 7, BSC-37 isolate showed a high inhibition (57 mm) against S. aureus. Furthermore, these six isolates were identified according to their morphological and physiological characteristics and 16S rDNA sequence analysis. 16S rDNA sequence analysis showed that the isolates with high antibacterial activity belong to Streptomyces genus. Results indicated that these isolates have great potential and may serve as a good source for the studies on bioactive natural products.\n",
            "01.10.2022\n",
            "Investigation of cyto-genotoxic effects of a food sweetener Acesulfame potassium\n",
            "Acesulfame potassium (ACE-K) is an artificial sweetener widely used in many foods. This investigation assessed the cytotoxic effect of ACE-K using MTT assay in human hepatocellular carcinoma (HepG2) cell line and the genotoxic effect using chromosomal aberrations (CAs), micronucleus (MN), and comet assays in human lymphocytes. 7.5-240 μg/mL concentrations of ACE-K were applied to cells. ACE-K notably decreased the cell viability on HepG2 cells, especially at 120 and 240 μg/mL at 24 and 48 h. It also significantly reduced the mitotic index (MI) at 60, 120, and 240 μg/mL at both treatments (24 and 48 h) in human lymphocytes. The frequency of the CAs significantly increased at 60, 120, and 240 μg/mL for 48 h treatment compared to control. However, no difference was observed in the frequency of MN and nuclear division index (NDI) at all the treatments. ACE-K also induced comet tail length, tail intensity, and moment at 15 μg/mL in isolated human lymphocytes. Therefore, ACE-K showed a cytotoxic effect in HepG2 cells as well as human lymphocytes at higher concentrations. It also exhibits a mild genotoxic effect by increasing the frequency of CAs at long-term treatment and DNA damaging effect only at 15 μg/mL.\n",
            "01.10.2022\n",
            "Carbohydrate active enzyme system in rumen fungi: a review\n",
            "Hydrolysis and dehydration reactions of carbohydrates, which are used as energy raw materials by all living things in nature, are controlled by Carbohydrate Active Enzyme (CAZy) systems. These enzymes are also used in different industrial areas today. There are different types of microorganisms that have the CAZy system and are used in the industrial sector. Apart from current organisms, there are also rumen fungi within the group of candidate microorganisms with the CAZy system. It has been reported that xylanase (EC3.2.1.8 and EC3.2.1.37) enzyme, a member of the glycoside hydrolase enzyme family obtained from Trichoderma sp. and used especially in areas such as bread, paper, and feed industry, is more synthesized in rumen fungi such as Orpinomyces sp. and Neocallimastix sp. Therefore, this study reviews Neocallimastixsp., Orpinomyces sp., Caecomyces sp., Piromyces sp., and Anaeromyces sp., registered in the CAZy and Mycocosm database for rumen fungi to have both CAZy enzyme activity and to be an alternative microorganism in the industry. Furthermore the CAZy enzyme activities of the strains are investigated. The review shows thatNeocallimax sp. and Orpinomyces sp. areconsidered as candidate microorganisms.\n",
            "26.09.2022\n",
            "Chemical composition of the essential oil of Thymus longicaulis C. Presl. subsp. longicaulis\n",
            "In this study, the chemical composition of the essential oils obtained from the aerial parts of Thymus longicaulis subsp. longicaulis naturally grown in Turkey were analyzed by GC and GC-MS and chemical differences in terms of chemotaxonomy were discussed. The main compounds in the essential oils of T. longicaulis subsp. longicaulis essential oils were 1,8-cineole (30.1%), linalool (18.0%), β-pinene (17.3%) and (E)-β-ocimene (%12.6%) Hierarchical cluster analysis was performed by examining essential oil studies of 34 samples belonging to the genus Thymus, including the Sinop sample. The results of the study were discussed with other taxa belonging to the genus.\n",
            "26.09.2022\n",
            "Effect of fixation methods and various clones of Camellia sinensis var. sinensis (L) properties and antioxidant activity of Indonesian green tea\n",
            "Fixation is essential in green tea processing to inactivate the polyphenol oxidase enzyme. In Indonesia, green tea is made from the Assam variety and produced using the panning method. Few studies are reported on green tea made from Indonesian clones of the Sinensis variety. This study aims to identify chemical characteristics, antioxidant activity, and sensory evaluation of green tea from local clones of the Sinensis variety (GMBS 2, GMBS 4, and GMBS 5) with different fixation methods (panning and steaming). The results show that the caffeine content of green tea products ranged from 2.51-2.59% and 2.67-2.74% for panning and steaming methods. The panning method produced green tea with higher total polyphenol and flavonoid content than the steaming method. Green tea with the panning method has an IC50 value of 14.45; 14.41; and 17.41 mg/L for GMBS 2, GMBS 4, and GMBS 5, respectively. The panning method resulted in a smaller IC50 value than the steaming method for GMBS 2 and GMBS 4 clones. The steaming method produced green tea with a higher taste, aroma, and total score than those the panning method. However, different fixation methods did not significantly affect the appearance, liquor color, and leaf infusion. In conclusion, different fixation methods on GMBS 2, GMB 4, and GMB 5 produced green tea products that met the Indonesian National Standard 3945:2016. Further research is needed to determine the role of the plucking period/season and the characteristics of volatile compounds of green tea from GMBS clones with different fixation methods.\n",
            "26.09.2022\n",
            "A research paper on the immunomodulatory and anti-inflammatory activities of olive tree (Olea europaea L.) leaf\n",
            "Olive tree (Olea europaea L.) leaf is known to have a number of bioactive properties being antioxidant, antihypertensive, antiatherogenic, anti-inflammatory, antifungal, antiviral and antimicrobial. In this study, the immunomodulatory roles of Olive tree (Olea europaea L.) leaf against oxidative damage caused by carbon tetrachloride (CCl4) in Saccharomyces cerevisiae were investigated. In the study, four groups were formed; namely, (i) Control Group: Yeast only planted group; (ii) CCl4 Group: Group given CCl4 (15 mM); (iii) Olive Tree Leaf Group: The group given olive tree leaf (10%); and (iv) Olive Tree Leaf + CCl4 Group: Olive tree leaf (10%) + CCl4 (15 mM) given group. Cultures of Saccharomyces cerevisiae were grown at 30 °C for 1, 3, 5, and 24 hours. Malondialdehyde (MDA), glutathione levels (GSH), cell growth and catalase (CAT) activity measurements were determined by spectrophotometer. Total protein concentrations were determined by SDS-PAGE electrophoresis and the Bradford protein method. According to the results obtained; compared to the CCl4 group, cell growth (1, 3, 5 and 24 hours), total protein synthesis, and GSH and CAT activities (24 hours) increased in olive tree leaf groups, while MDA level (24 hours) decreased. Thanks to its strong bioactive properties, olive tree leaf has been found to increase cell growth and total protein synthesis by decreasing CCl4 induced oxidative stress in Saccharomyces cerevisiae culture. It has been concluded that if the olive tree leaf is used regularly, it will be beneficial in eliminating many health problems.\n",
            "26.09.2022\n",
            "Kıbrıs’ın Örümcek Faunası İçin Yeni Bir Kayıt: Porrhoclubiona genevensis (L. Koch, 1866) (Araneae, Clubionidae)\n",
            "Bu çalışmada Kıbrıs adasının kuzeyinden toplanan erkek ve dişi bireyler üzerinden Porrhoclubiona genevensis türü, Kıbrıs’ın örümcek faunası için yeni bir kayıt olarak rapor edilmektedir. Makale içerisinde türün genel görünüş ile eşeysel organlarının fotoğrafları verilmiş ve ayrıca P. genevensis türünün adada dağılım gösteren P. vegeta (Simon, 1918) ile olan yapısal benzerliği de tartışılmıştır.\n",
            "31.12.2022\n",
            "Sium sisarum L. var. lancifolium (M. Bieb.) Thell -a traditional spice from eastern Anatolia: chemical composition and biological activities\n",
            "Traditionally consumed food and spices are significant sources in the daily life diet and constitute a large portion of the cuisine in Eastern Anatolia in Turkey. However, limited data available necessitate further analysis of their chemical composition and health attributing properties. This study aims to present phytochemical composition and biological activities of Sium sisarum var. lancifolium, a commonly consumed spice and food species in the region. Analytical studies to date have revealed the presence of high levels of phenolics (chlorogenic acid and isoquercetin) and volatiles (α-terpinene, camphene, cyclohexene, carene and p-cymene), which exhibits significant potential of digestive enzyme suppressive and antioxidant abilities. Data collected in this study suggest the use of Sium sisarum plant to obtain nutraceuticals and/or biotherapeutic agents that are able to regulate oxidative stress and enzyme activities.\n",
            "26.09.2022\n",
            "Prodidomus rufus Hentz, 1847 (Arachnida: Araneae), Redescription of Female and New Record of Male from South of Iraq\n",
            "The female of the species Prodidomus rufus Hentz 1847, which was previously recorded from Al-Najaf province in central Iraq, was described inaccurately. Therefore, we re-described it as the males were first recorded in Al-Gharraf district, north of Thi Qar province- southern Iraq, depending on the copulatory organs (Palp and Epigynum) illustrated in the figures and have a role in distinguishing between species. The habitus of males and females, leg parts measurements of males and females, and a map of specimen’s locations are also presented.\n",
            "31.12.2022\n",
            "New and Additional Notes on the Aleocharinae Subfamily (Coleoptera: Staphylinidae) of Türkiye\n",
            "In this study, new and additional records of 15 species of the Aleocharinae subfamily (Coleoptera: Staphylinidae) are presented from Türkiye. Among them, Dinusa cretica Assing, 2013 is the first record from Türkiye. Besides, Autalia longicornis Scheerpeltz, 1947 and Maurachelia roubali (Lohse, 1970) from the Marmara Region and Enalodroma hepatica (Erichson, 1839) from the Aegean Region are reported for the first time. In addition, new records are given for many provinces of Türkiye.\n",
            "31.12.2022\n",
            "Peg-stabilized collagen-chitosan matrices: physicochemical and in vitro biological assessment of hydrogels\n",
            "In this study, some of the physicochemical and in vitro biological properties of hydrogel matrices formed under different crosslinking conditions, consisting of the structural protein collagen and chitosan polysaccharide were investigated. The chemical compositions of the developed matrices were verified, their surface morphologies were examined by SEM and AFM, and their light transmittance status was determined. Next, the in vitro cytocompatibility of the hydrogels was demonstrated based on one week of interaction with mesenchymal stem cells. As a result, highly transparent and cytocompatible hydrogel matrices with mechanical stability in aqueous conditions were obtained.\n",
            "30.12.2022\n",
            "Anti-quorum sensing and cytotoxic activity of elemi essential oil\n",
            "Essential oils have several biological activities such as antimicrobial, antioxidant, proliferative, and anti-inflammatory. This study aimed identification of bioactive compounds found in Elemi essential oil (EO) and to determine the anti-quorum sensing and cytotoxic activities of EO. In this study, bioactive compounds of EO were analyzed using GC-MS, and the antibacterial activity of elemi was screened against Staphylococcus aureus ATCC 25923, Methicillin-Resistant Staphylococcus aureus ATCC 43300, Escherichia coli ATCC 25922, Pseudomonas aeruginosa ATCC 27853, Pseudomonas aeruginosa PAO1. Anti-biofilm activity and pyocyanin production on P. aeruginosa PAO1 were also investigated. The effect of EO on cell viability was also analyzed by thiazolyl blue tetrazolium bromide (MTT) and neutral red uptake (NR) assay in fibroblast cells. According to GC results, the major component of EO was determined as limonene (55%).  A sub-MIC of elemi essential oil inhibited biofilm formation and pyocyanin production by 43% and 56%, respectively. On the other hand, EO also had an acute effect on the mitochondrial and lysosomal activities of fibroblast cell lines. Mitochondrial and lysosomal activities were significantly decreased when EO concentrations were applied for 24 and 48 hours (p<0.05). In conclusion, EO has inhibitory activity on biofilm formation and pyocyanin production, and also the lower doses of oil have no toxic effects on fibroblast cells. However, higher doses of EO have more cytotoxic effects on mitochondrial activity rather than the lysosomal activity of fibroblast cell lines. It is thought that EO exhibits these activities due to the amount of limonene in its content. \n",
            "26.09.2022\n",
            "Characterization of Omega-3 and Omega-6 Fatty Acid Accumulation in  Chlorococcum novae-angliae Microalgae Grown under Various Culture Conditions\n",
            "\n",
            "15.12.2022\n",
            "Pharmacological activities of extracts and isolated compounds of Acalypha Fruticosa Forssk. (Euphorbiaceae)\n",
            "Acalypha fruticosa Forssk is a shrub belonging to the family Euphorbiaceae. A. fruticosa has a wide adaptation through traditional medicinal uses to cure several disorders such as dermatitis, diarrhea, dyspepsia, eye infection, inflammations, and stomachache. This article objects to identify, analyze, and document the reported pharmacological activities of A. fruticosa. Electronic databases namely, PubMed, ScienceDirect, Scopus, and Web of Science were employed to identify the related publications from 1900 to August 2021. Compounds such as 1, 2-benzene dicarboxylic acid diisooctyl ester, and eicosyltrichlorosilane were recognized from different parts of this plant species. Until now, only in vivo and in vitro scientific evidence is available for several pharmacological activities for A. fruticosa. Various parts of this plant species have anticancer, antidiabetic, anthelmintic, antibacterial, antileishmanial, and antiplasmodial properties. This work will benefit the investigators on pharmacological and phytochemical investigations of this plant species in the future.\n",
            "26.09.2022\n",
            "Türkiye’den İstilâcı Bir Bitki Kaydı: Eschscholzia californica Cham.\n",
            "Batı, Güney ve Orta Amerika ilâ Meksika'nın kuzeyine kadar olan bölgede doğal yayılış gösteren Eschscholzia californica Cham. (Acemlâlesi) türü Dünya’nın birçok ülkesinde istilâcı olarak bulunmaktadır. Türkiye’de bahçe bitkisi olarak yetiştirilen bu türün Türkiye'deki yayılışı hakkında bir herbaryum kaydına rastlanmamıştır. Bu çalışma, 2022 yılının Mayıs ayı içerisinde Kuzey Marmara Otoyolu'nun Gebze (Kocaeli) ve Kurtköy-Tuzla (İstanbul) kesimleri yol kenarları boyunca toplanan herbaryum örneklerine dayanmaktadır. Bitki bu alanlarda bozulmuş habitatlarda doğallaşmış olarak bulunmaktadır. Türün çevredeki ev bahçelerinden sıçrayarak bozuk habitatları istilâ ettiği düşünülmektedir.\n",
            "06.09.2022\n",
            "Türkiye Florası İçin Yeni Bir Melez Bitki Taksonu Kaydı: Rorippa × anceps (Wahlenb.) Rchb. (Brassicaceae)\n",
            "In this study, the presence of the Rorippa × anceps hybrid taxon which was not added to the Flora of Turkey, although collected from the Eastern Anatolia Region there were herbarium specimens in Edinburgh herbarium, was determined. The taxon was collected from Van province of Turkey, when it was identified to be Rorippa × anceps taxon. When digital herbariums were searched, it was determined that this plant was previously collected from the Iğdır province but was not added to the Flora of Turkey. The description of the plant was rearranged on the samples collected in this study, micromorphological data and SEM images of seeds and pollen were added.\n",
            "06.09.2022\n",
            "mtDNA COI and Cyt b Analysis of Carassius auratus (Linnaeus, 1758) Species Living in Atatürk Dam Lake (Turkey)\n",
            "\n",
            "15.12.2022\n",
            "Schizosaccharomyces pombe’ de Magnezyum Kısıtlamasının Glukoz Transportu Üzerine Etkisinin Araştırılması\n",
            "Magnezyum, enerji metabolizması, nükleik asit ve protein sentezi, sinyal iletimi, hücre bölünmesi gibi birçok biyolojik süreç için hayati önem taşır. Magnezyum homeostasisinin bozulması, kardiyovasküler hastalıklar, hipertansiyon, tip 2 diyabet ve kanser başta olmak üzere çok sayıda hastalıkla ilişkilendirilmiştir. Dünya çapında 300 milyondan fazla insan tip 2 diyabet ile mücadele etmektedir ve bu sayı katlanarak artmaktadır. Klinik çalışmalar, tip 2 diyabetli hastalarda serum magnezyum seviyesinin düştüğünü ve magnezyum takviyesinin glukoz metabolizması üzerine olumlu etkileri olduğunu göstermiştir. Bu çalışmada, biyolojik süreçler ve genetik mekanizmalar bakımından memeli hücreleriyle benzerlik gösteren Schizosaccharomyces pombe mayasının magnezyum transportu kısıtlı mutant suşunda glukoz tüketimi ve glukoz taşıyıcılarının (ght1, ght2, ght5) anlatım seviyeleri araştırılmıştır. Magnezyum transportu kısıtlı olan mutant suşta, besi ortamına ilave edilen magnezyum artışına bağlı olarak glukoz tüketimi artmıştır. Glukoz taşıyıcılarından ght1, ght2 nin anlatım düzeyi, 30 mM Mg+2destekli ortamda artmış, suş için optimum üremenin görüldüğü daha yüksek magnezyum konsantrasyonunda (75 mM) azalmış, ght5’in anlatım düzeyinde ise anlamlı bir değişim bulunmamıştır. Bulgularımız, glukoz taşıyıcılarından ght1 ve ght2’ nin ght5’ ten farklı bir mekanizma ile düzenlendiğini işaret etmektedir.\n",
            "15.12.2022\n",
            "Ian Hedge\n",
            "8 Ağustos 2022 günü, Edinburgh Kraliyet Botanik Bahçesinin (E) çok değerli botanikçilerinden Ian Hedge’in vefat haberini aldık. \n",
            "Ian C. Hedge, Ediburgh’da yazılan Flora of Turkey and East Agean Islands adlı 11 ciltlik eserin 10 cildinin editörü P. H. Davis’den sonraki en önemli yazarı, destekçisi ve bir sorun olduğunda ilk başvurduğu danışmanı idi. Davis’in önemli konularda daima Ian Hedge’e danıştığına ve onun yorumlarını kabul ettiğine çoğu kez şahit olunmuştur. Kendisi Flora’ya hazırladığı çok sayıda cins ile, bir yandan Davis’in görevini paylaşır ve kolaylaştırırken, diğer yandan da Türkiye ve Dünya botaniğine önemli katkılarda bulunmuştur. Eserin, Türkiye'de hazırlanan 11. Cilt'ine de çok önemli katkısı olmuştur. Bu katkı 11. Cilt'in İngilizce editörlüğünün çok ötesine geçmiş, birçok bilimsel yanlışın düzeltilmesini sağlamıştır. Hatta kendisine, 11. Cilt'in editörlerinden biri olması teklif edilmiş; ama nezaketle, bu cildin Türk botanikçilerin eseri olması gerektiği mülâhazasıyla reddetmiştir. \n",
            "Bunun yanında, İran, Kıbrıs ve Irak Florası'nın hazırlanmasına kendisinin çok önemli katkısı olduğu gibi, aktif hayatının son yıllarında Afganistan Flora ve Vejetasyonunun tanınmasına da önemli katkılarda bulunmuştur.  \n",
            "Kendisinin herhangibir akademik ünvanı olmamasına rağmen, katıldığı bilimsel toplantıların en muteber kişileri arasında olurdu. \n",
            "Ian Hedge’in Türk Botanikçilerinin gönlünde Edinburg'daki diğer çalışanlar yanında ayrı bir yeri vardır. Edinburg Herbaryumunu ilk ziyaret eden Türk Botanikçisi rahmetli Faik Yaltırık’dan başlayarak orada çalışma imkânı bulan Türk botanikçilerinin sosyal ve bilimsel açılardan en önemli yardımcısı olmuştur. Ne mutlu ki kurulan arkadaşlık zamanla birçok Türk botanikçisiyle dostluğa dönüşmüş ve hepimizin bilimsel hayatına olumlu katkılar yapmıştır. \n",
            "Edinburg'da çalışan Türk Botanikçileri için Ian Hedge, Davis’ten daha ziyade, ikinci bir yol gösterici, yardımcı kılavuz olmuştur. Botanikçilerimizin dil sorununu bildiğinden, onlarla konuşurken mümkün olduğunca kolay ve anlaşılabilir bir konuşma şeklini seçer, onlara hiç çekinmeden kendisine danışmalarını önerirdi. \n",
            "Kendisi ile Edinburg'da yaşadığımız ilginç hatıralar yanında, değişik yıllarda ülkemizde İzmir ve Van'da düzenlenen PLoSWA toplantıları (Güneybatı Asya'da Bitki Hayatı), 2003 yılında İstanbul'da düzenlenen Nezahat Gökyiğit Botanik Bahçesi'nin \"Stratejik Plânlama Toplantısı\"na ve nihayet 2010 yılında Antalya'daki 13. OPTIMA kongrelerine katılarak genç Türk botanikçilerine de kendisini tanıtmış ve onların hayatları boyunca unutamayacakları hatıralar edinmelerini sağlamıştır. İzmir toplantısından sonra Ankara’ya da gelmiş ve ANK ve GAZİ herbaryumlarını ziyaret etmiştir. \n",
            "Tartışılmayacak bilimsel erkinin yanında insan olarak çok değerli, yardımsever ve sevecen bir yapıya sahipti. Gerek Edinburg'u ziyaret eden, gerekse son yıllarda Türkiye’ye yaptığı seyahatlerde kendisini tanıma şansına sahip olan, unutulmaz hatıralar edinmiş botanikçi meslektaşlarımız ile bu fırsatı elde etmemiş olsalar bile Flora of Turkey’den yararlanan bütün Türk Botanikçileri kendisini daima saygı, sevgi ve minnetle anacaklardır. \n",
            "Biz çok sevdiğimiz, saydığımız bir arkadaşımızı, ama daha önemlisi Dünya çok değerli bir botanikçiyi kaybetti. \n",
            "Allah rahmet eylesin; toprağı bol olsun. Nurlar içinde uyusun.\n",
            "06.09.2022\n",
            "Drimia Cinsi (Asparagaceae) ve Türkiye’deki Türlerinin Türkçe Adlandırılması\n",
            "Asparagaceae familyasında yer alan Drimia (Syn. Urginea) cinsine “Türkiye Bitkileri Listesi (Damarlı Bitkiler)” kitabında Türkçe ad olarak “Cıbılörümcekotu” ve Anthericum cinsine de “Örümcekotu” adı verilmiştir. Adı geçen eserde Anthericum cinsine “Örümcekotu” adı ve Drimia cinsine “Cıbılörümcekotu” adı verilmiştir. Muhtemelen cinslerin birbirine yakınlığından dolayı bu Türkçe ad kullanılmış olabilir. Dolayısıyla, “Cıbılörümcekotu” bitkinin halk arasında kullanılan adı değildir. Türkiye’de yapılmış etnobotanik çalışmalar incelendiğinde, Drimia cinsinin halk arasında “Adasoğanı” adı ile bilindiği görülmektedir. Bu nedenle, Türkçe Bilimsel Bitki Adları Yönergesi’ne uygun olarak, Drimia cinsi için “Adasoğanı” adı, ve bu cinsin türleri için “Adasoğanı” kelimesinden türevlenen adlar önerilmektedir.\n",
            "06.09.2022\n",
            "Chemical Composition and Biological Activity of Milk Thistle Seeds (Silybum marianum (L.) Gaertn.)\n",
            "Milk Thistle Seeds (MTS) purifies the liver from all toxic and harmful substances, supports the regeneration of liver cells. In this study, the chemical composition of milk thistle seeds (Silybum marianum (L.) Gaertner = Carduus marianus L.) and also its biological activity were determined. Essential oil was analyzed using by gas chromatography (GC) and gas chromatography-mass spectrometry (GC-MS) techniques. After that, the essential oil was tested against bacteria and fungi by agar well diffusion and micro dilution methods. The essential oil yield was 1.1% (v/w). Eight constituents were comprised the 97.3% of the total oil extract of the Milk thistle seeds. The major compounds were determined as oleic acid (45.6%), linoleic acid (29.0%), ethylbenzene (7.0%) and stearic acid (5.7%). The seed essential oils of MTS significantly inhibited the growth of Gram-positive (Staphylococcus aureus and Bacillus subtilis) and Gram-negative (Escherichia coli and Streptococcus sp.) bacteria (p < 0.05). The oils also showed fungicidal activity against Candida tropicalis and C. globrata.\n",
            "01.12.2022\n",
            "Güncel Veriler Işığında Scorzonera hieraciifolia (Asteraceae)’nın Taksonomik Durumunun Değerlendirilmesi\n",
            "Bu çalışmada, halofitik endemik Scorzonera hieraciifolia (Asteraceae)’nın morfolojisi, küresel ölçekteki tehtit seviyesi ve taksonomik durumu yeni veriler ışığında ele alınmıştır. Türün doğal yayılış gösterdiği alanlardan yeni toplanan ve ulusal/uluslararası herbaryumlarda saklanan örnekler üzerinden yapılan detaylı incelemeler S. hieraciifolia taksonunun  kısa kıvrık tüylü (crisped) gövde tabanı; basit (lanseolat, ovat veya eliptik) veya birleşik (pinnat derin linear parçalı) yaprak ayası; ovat ve ucu boynuzsu uzantılı dış fillarileri (corniculate); tüysüz veya seyrek uzun kıvrık yünsü tüylü (lanate), 4-6 mm uzunlukta, siğilli (verrucose) yüzey süslemeli ve saplı (stipitate) akenleri ile karakterize olduğunu göstermiştir. Türün halihazırda tuzlu bataklık ve bozkır alanlarda tespit edilen popülasyonlarının (10 farklı alan) güçlü olduğu ancak küresel iklim değişimleri etkisiyle tuzcul alanlarda oluşabilecek değişimlerden etkilenebileceği öngörülerek küresel ölçekte tehdite yakın (NT) kategorisinde değerlendirilmiştir. Gerek literatür gerekse TÜBİTAK tarafından desteklenen proje kapsamında elde edilen güncel veriler değerlendirilerek türün yayılış alanları ortaya konulmuştur. Son olarak S. hieraciifolia yakın (akraba) türler ile morfolojik ve korolojik açısından karşılaştırılarak taksonomik durumu netleştirilmiştir.\n",
            "06.09.2022\n",
            "Çanakkale Boğazındaki İstavritin (Trachurus trachurus, Linnaeus, 1758) Kas Dokusunun Histopatolojik Değerlendirilmesi\n",
            "It is supported by studies that heavy metals and other water pollutants can reach humans through the food chain because of accumulation in organs of digestion, respiration, and muscles of fish, and may cause toxic effects depending on the amount of pollution and accumulation. This study was carried out by obtaining Horse mackerel samples from the Çanakkale Strait, which are fish species with high economic and nutritional value, as well as frequently consumed, seasonally (spring, summer, autumn, and winter). In the study, the tissues dissected from the dorsolateral muscles of the fresh fish were taken into Bouin's fixative, and sections were taken after routine histological follow-up. The findings revealed degenerative and inflammatory findings in the muscle tissues of fish caught especially in the autumn season. In addition, a statistically significant difference was found in autumn samples in terms of immunoreactivity (p<0.05).\n",
            "01.09.2022\n",
            "Detection of Cadmium Genotoxicity on Fatty Acids Desaturase-2 Genes in Safflower (Carthamus tinctorius)\n",
            "\n",
            "01.12.2022\n",
            "Trabzon İli Atmosferindeki Alerjenik Polenlerin Volumetrik Yöntemle Belirlenmesi\n",
            "In this study, airborne pollen grains of Trabzon were investigated using a volumetric trap VPSS 2000 (Lanzoni) from 01st January 2016 to 31st December 2016. During one-year study period, a total of 29150 polen m-3 belonging to 45 taxa were recorded. From identified taxa, 24 belong to arboreal (69.78%) and 21 taxa to non-arboreal (30.00%) and unidentified pollen grains (0.23%). In the investigated area, from arboreal plant taxa Alnus sp. (23.06%), Cupressaceae-Taxaceae (19.29%), Pinaceae (11.59%), Betula sp. (5.91%), Platanus sp. (3.38%), Quercus sp. (1.67%), Ulmus sp. (1.16%), Fraxinus sp. (1.05%) and from non-arboreal plant taxa Poaceae (13.56%), Urticaceae (7.10%), Boraginaceae (2.12%), Rumex sp. (1.92%), Mercurialis sp. (1.36%), and Artemisia sp. (1.25%) were responsible for the greatest amounts of pollen grains during the study period. The maximum pollen concentration of investigated area is recorded in February (38.39%), March (11.88%) and April (15.67%).\n",
            "01.09.2022\n",
            "Association of IL-4 and IL-1 Ra Gene Polymorphisms with the Risk of Bladder Cancer\n",
            "\n",
            "01.09.2022\n",
            "Investigation of   ABO   and Rh  Blood  Group Frequencies  in Southern Kazakhstan and North Eastern Anatolian Populations\n",
            "\n",
            "01.09.2022\n",
            "Analysis Of Emotional Eating Status In University Students\n",
            "\n",
            "01.09.2022\n",
            "Determination of Allelopathic and Antimicrobial Effects of Four Different Plant Species\n",
            "The investigation of allelopathic and antimicrobial effects of four different plant extracts is the aim of this study. The aqueous extract of plants (Lepidium draba L., Acroptilon repens (L.) DC., Thymus kotchyanus Boiss&Hohen. var. kotchyanus, Inula peacockiana (Aitch.&Hemsl.) Koravin,) were applied to seedlings of cultivated (Pisum sativum L. and Hordeum vulgare L.) and weed (Amaranthus retroflexus L. and Portulaca oleraceae L.). Seedlings were irrigated with aqueous extract (1 %) for 15 days to observe the physiological responses. The morphological changes, chlorophyll levels and phytohormone concentrations were determined. The Lepidium draba and Inula peacockiana extracts affected development of all of the target seedlings and caused lesion on the leaves. Acroptilon repens and Thymus kotschyanus extracts caused a decrease in gibberellic acid (GA) whereas increase in absisic acid (ABA) levels.\n",
            "For investigation of antimicrobial activities, hexane, methanol and water extracts were prepared. Extracts were applied on Bacillus cereus, Staphylococ aureus, Pseudomonas syringae and Escherichia coli for antibacterial and Rhizoctonia solani, Fusarium oxysporum and Aspergillus niger for antifungal effects. Inula peacockiana and Acroptilon repens extracts had a great antimicrobial activity. While all plant extracts inhibited Rhizoctonia solani, Fusarium oxysporum growth and spore development of Aspergillus niger. The antifungal activity of extracts were better than antibacterial activity. As a conclusion, these plants have allelopathic potential for natural weed control and antimicrobial potential for medicinal uses.\n",
            "01.12.2022\n",
            "Juvenile Parasagitta setosa (J. Müller, 1847) (Chaetognatha) from Shallow Waters of the Southern Black Sea: Temporal Size Structure, Gonad Maturity, and Gut Content\n",
            "The present study aimed to assess the abundance, body length, maturity stage, and gut content of Parasagitta setosa in the southern Black Sea, Turkey. The study was conducted twice a month from January 2008 to December 2008. Vertical hauls with a 112 μm mesh size plankton net were used from a depth of 50 m to the surface of the Sinop coast. During the study period, the abundance of this species was generally low, varying between 10 and 980 ind.m-2. In particular, the abundance of P. setosa was low from December to July but increased from August. Small size individuals were predominated, with both 1 – 1.99 mm and 2 – 2.99 mm size classes accounting for 62% of the total P. setosa sample. Four developmental stages were determined based on ovary and seminal vesicle development. Stage I (immature) was the predominant developmental stage in the P. setosa population. A total of 1580 individuals were dissected; however, only 53 individuals had food items in their gut (3.4%), with copepods (54.73%) accounting for the predominant group the food content. It was determined that the abundance values and feeding ratios of P. setosa were low in the coastal area of Sinop and new individuals join in the population during the summer-autumn period.\n",
            "01.09.2022\n",
            "Differential regulation of antioxidant enzymes by resveratrol in healthy and cancerous hepatocytes\n",
            "\n",
            "15.11.2022\n",
            "Türkiye’de Çift Kabuklu Yumuşakçalarda Betanodavirus Varlığının Araştırılması\n",
            "Abstract: Viral nervous necrosis (VNN) is an important viral disease that is seen especially in larval and juvenile, occasionally in adult marine fish. VNN is now accepted as endemic in the Mediterranean basin and outbreaks in sea bream caused by RGNNV/SJNNV genotype have been isolated as well as the RGNNV genotype of betanodaviridae which causes frequent outbreaks. The aim of this study was to investigate the presence of the betanodavirus in carpet shell (Ruditapes decussatus) and black mussel (Mytilus galloprovencialis) stations approved by the official authorities in Turkey. A total of 50 samplings were carried out from five carpet shells and eight black mussel stations between 2016-2020. Sampling of carpet shells were conducted in August and black mussels in September by every year. Thirty samples were collected from each station, and a total of three hundred pools consisting of five samples each were produced. Samples prepared from the hepatopancreas of the bivalve mollusks were tested by Real-Time Reverse Transcriptase Polymerase Chain Reaction (RT-qPCR). Betanodavirus nucleic acid was not detected in any of carpet shell and black mussel samples. The presence of betanodavirus in bivalve mollusks in Turkey was investigated for the first time in this study. In conclusion, this study was conducted in only officially approved carpet shell and black mussel stations, however, since there were no officially approved stations in the Southern Aegean and Mediterranean regions, where the virus is more endemic, sampling was not conducted. Further and expanded studies are necessary including these regions to better understand the betanodavirus epidemiology in shellfish.\n",
            "01.09.2022\n",
            "Surface Sterilization Optimization in Seeds of Şalak Apricot Variety (Prunus armeniaca L. cv. Şalak)\n",
            "This research was carried out with the aim of improving the surface sterilization optimization technique in seeds which in vivo and in vitro growth of Şalak apricot cultivar. For seed sterilization, the effects of 0%, 10%, 15%, 20% NaOCl and 10, 15, 20 minutes exposure times were investigated. Seeds were kept in 70% ethanol for 40 seconds for pre-sterilization. The results of the study were evaluated as the rates of germinated seed (%) and contaminated seed (%). It was concluded that 20% NaOCl+15 minutes application for seed sterilization would be sufficient for surface sterilization with 12% contamination.\n",
            "01.09.2022\n",
            "Interactive effect of thiourea application on morphological and physiological characteristics in Cicer arietinum L. grown at different temperatures\n",
            "Global warming affects many metabolic events in plants and significantly reduces yield and product quality. One of the physiological events most affected by heat stress is nitrogen metabolism. In this study, 5 and 10 mM thiourea was applied to chickpea plants grown at 15, 25, and 35 °C and it was aimed to determine how the plant can cope with heat stress with nitrogen supplementation. It was determined that the root length decreased significantly at all three temperatures depending on the increasing thiourea concentration, while the shoot length increased at 15 and 35 °C compared to the control. There was a decrease in root fresh weight in all three experimental groups due to increasing thiourea concentrations. Only at 5 mM at 15 °C was a highly significant increase seen over the control. When the experimental groups at all temperatures were compared, the highest chlorophyll a, b, and total chlorophyll values were found at 35 °C. It was determined that SOD activity decreased at all three temperatures compared to the control, while CAT and APX activity increased. A significant increase in NR and GS activity was determined in both thiourea treatments at 25 and 35 °C compared to the control.\n",
            "15.11.2022\n",
            "Effects of Exogenous Linoleic Acid on Barley (Hordeum vulgare L.) Seedlings Under Salinity\n",
            "Salt stress adversely affects plants and causes different levels of morphological,\n",
            "physiological, biochemical, and molecular changes at different growth stages. Polyunsaturated fatty\n",
            "acids (PUFAs), such as linoleic acid, are main components of membrane lipids and determine the\n",
            "fluidity and stability of the cell membrane. In addition, PUFAs have a crucial role in maintaining the\n",
            "structure and function of the cell membrane which is damaged by salinity. There may be a relationship\n",
            "between level of PUFAs in membrane lipids and salinity tolerance. The present study was carried out\n",
            "to examine the effects of exogenous application of 0.5 mM linoleic acid (LA) on barley seedlings\n",
            "(Hordeum vulgare L. cv. Martı) grown in hydroponic conditions under 160 mM NaCl. The treatment\n",
            "with LA ameliorated the stress generated by NaCl by increasing osmolyte level and decreasing ion\n",
            "leakage percentage and H2O2 content within hours. Besides, LA significantly enhanced expression of\n",
            "salt-responsive transcription factor HvDRF2 and ROS scavenger gene HvMT2 as 105- and 40-fold,\n",
            "respectively, in the leaves of barley seedlings under salinity conditions. While LA slightly increased\n",
            "the gene expression of ascorbate peroxidase (HvAPX), glutathione S-transferase (HvGST6) and copper\n",
            "zinc superoxide dismutase (HvCu/ZnSOD) in the roots of barley seedlings, the expression of these\n",
            "genes was not changed in the leaves under salinity compared to salt-stressed samples. This study\n",
            "provides novel insights for effects of LA on improvement of salinity tolerance in barley.\n",
            "01.09.2022\n",
            "Natural Compounds Targeting VEGFRs in Kidney Cancer: An In silico Prediction\n",
            "Vascular endothelial growth factor receptor-tyrosine kinase inhibitors (VEGFR-TKIs), which target angiogenesis by blocking VEGF signaling, are used in the treatment of many cancers including kidney cancer. Despite their efficacy in cancer, serious adverse effects such as hypertension and cardiovascular toxicities remain a clinical challenge. Natural non-toxic compounds targeting VEGFRs might be an alternative to VEGFR-TKIs. In the current study, we screened databases and literature which recommend natural compounds for kidney cancer and found approximately five hundred natural compounds. After screening for toxicity and drug-likeliness properties, fifteen of these compounds remained. Subsequently, we performed molecular docking studies against VEGFR-1 and VEGFR-2 with Lenvatinib, reported to be the most toxic of TKIs, and the fifteen natural compounds. As a result, Polydatin and Plakortide M gave the closest results to Lenvatinib in the interactions of the compounds with VEGFR-1 and VEGFR-2, respectively.\n",
            "01.09.2022\n",
            "Melanoleuca tristis (Basidiomycota, Agaricales), a new record from western Mediterranean region of Türkiye\n",
            "A rare species, Melanoleuca tristis is reported for the first time from Türkiye on sandy soil under Pinus nigra subsp. pallasiana forest, a characteristic habitat of the Mediterranean region. Phylogenetic analysis based on a dataset of the nuclear ribosomal DNA (rDNA) internal transcribed spacer (ITS) sequences is performed to support the identification and to compare with similar taxa. The description, a color photograph of the basidiomata and microscopic drawings are given.\n",
            "15.11.2022\n",
            "Total flavonoid, phenolic and antioxidant activities of  Pelargonium quercetorum Agnew: Comparison of in vivo and in vitro grown plantNowadays, natural compounds with phytochemical properties  are considered human-friendly drugs because they do not have side effects. Therefore, the importance given to antioxidant compounds, which are also found in plants, continues to increase day by day. Pelargonium L'Hér. ex Aiton taxa are also used as curative in diseases such as respiratory tract infections, dysentery, liver complaints and diarrhea treatment. Plant tissue and cell culture techniques are a good tool for the production of some active metabolites such as polyphenols. It is also known that with these methods, secondary metabolite production is promoted and there are also changes in antioxidant capacity. In this context, it was aimed to determine the total phenolic, flavonoid and antioxidant capacities of Pelargonium quercetorum Agnew plant by growing in vivo (rhizome and above-ground part) and in vitro conditions. When the results obtained were examined, the highest phenolic and flavonoid content was found in the shoot extract in vitro; the lowest phenolic and flavonoid content was determined in the rhizome extract. In our study, 3 different methods (DPPH, ABTS, CUPRAC) were used to determine the total antioxidant activity.  When the antioxidant activity results were evaluated in general, it was observed that the order of activity in all three methods was \"in vitro shoot ˃ in vivo above ground ˃ in vivo rhizome\". In the DPPH method, plant extracts showed better activity than BHT, which was used as a positive control, and better than BHA in the ABTS method. In addition, a positive correlation was observed between total phenolic-flavonoid content and antioxidant activity. The data obtained from this study, it is thought that the plant P. quercetorum has antioxidant activity, and our study will be a step in the search for natural origin antioxidants.\n",
            "\n",
            "15.11.2022\n",
            "Coprotus Korf & Kimbr.: A new coprophilous genus record for the mycobiota of Türkiye\n",
            "The genus Coprotus Korf & Kimbr, was given as new record for the mycobiota of Türkiye based on the collection and the identification of Coprotus ochraceus (P. Crouan & H. Crouan) J. Moravec from Şirvan district of Siirt province. A brief description of the species is given together its photographs related to its macro and micro morphologies.\n",
            "15.11.2022\n",
            "Hizan İlçesi (Bitlis) Papilionoidea ve Hesperioidea Faunası\n",
            "In this research, a faunistic study was carried out in Hizan district of Bitlis province on Papilionoidea and Hesperioidea superfamilies. In the study, 937 samples collected from 23 localities were examined. As a result of the study, a total of 101 species belonging to 7 families were identified. Of these, 84 species for Hizan district and 3 species (Pseudochazara (s.str.) mniszechii, Carcharodus (Lavatheria) stauderi, Eogenes alcides) for Bitlis province are new records. In addition, pictures of some localities and adult individuals belonging to some species are also presented in the paper.\n",
            "31.10.2022\n",
            "Stellaria kotschyana (Caryophyllaceae) Taksonomisine Katkılar ve Yeni Bir Sinonim\n",
            "Some Stellaria kotschyana samples were collected by Jany Renz in July 1951 in the steppes between Bitlis and Tatvan, between 1700-1900 meters. However, these specimens, which are still flowering, do not bear mature capsules and do not have root parts, so they were accepted as annuals by Renz and were identified as Lepyrodiclis holosteoides as a result of an erroneous evaluation. Although belonging to the genus Stellaria, these specimens (two doublets) identified as L. holosteoides were kept in the Geneva Herbarium. Later, although these specimens, which were misdiagnosed at the genus level, did not resemble Lepyrodiclis in terms of their taxonomic characters, they were accepted as belonging to this genus and published as a new species for the scientific world. In this new species publication, published very recently (March 2021), only the flowering specimens Renz collected from Bitlis were used. However, since it was grown in Turkey, fruity and rooted specimens could be collected and the correct genus diagnosis could be made. All of the descriptions and pictures of L. alinihatii introduced in the aforementioned publication are exactly the same as S. kotschyana. The species published as L. alinihatii in this study is a synonym for S. kotschyana; Original publications, descriptions of flora, field observations and herbarium specimens were reviewed. In addition, some taxonomic features and new distribution areas of S. kotschyana were emphasized.\n",
            "31.10.2022\n",
            "Macrofungi Determined in Ulukışla (Niğde-Turkey) District\n",
            "This study was based on the macrofungi samples collected from the region within the boundaries of Ulukışla district of Niğde province. As a result of field and laboratory studies, 92 macrofungi species belonging to 6 classes, 14 orders, 42 families and 70 genera within Ascomycota and Basidiomycota were determined. Routine morphological parameters were used for identification. Ninety one of the determined taxa are new for the distict. The taxa were listed together with their habitats and localities.\n",
            "31.10.2022\n",
            "Anticancer, Antioxidant, Antimicrobial and Enzyme Inhibitory Activities of Inula aucheriana\n",
            "Türkiye'de yaygın olarak görülen Inula aucheriana, Asteraceae familyasına ait bir bitkidir. Çeşitli hastalıkların tedavisinde kullanıldığı bilinen bu bitkinin farklı biyolojik özelliklerinin araştırıldığı bu çalışma ile bitkinin farmakolojik potansiyelinin ortaya çıkarılması amaçlanmaktadır. Yöntemler: I.aucheriana'nın %80 etanol ekstraktı hazırlanarak, kimyasal bileşimi (Q-TOF analizi ile), antioksidant özellikleri (spektrofotometrik analizi ile), enzim inhibitör aktiviteleri (Ellman’s yöntemi ile), antimikrobiyal aktivitesi (MIC konsantrasyon değeri ile) ve antikanser aktivitesi (IC50 analizi ile) nitel ve nicel yöntemlerkullanılarak araştırıldı. Bulgular: I.aucheriana'nın %80 etanol ekstraktının güçlü bir antioksidan, antikanser ve enzim inhibitörü olduğu tespit edildi. Kimyasal bileşim analizinde ektraktın ana bileşiği luteolin (%32.55) olarak belirlendi. I. aucheriana ekstraktının AChE ve BChE inhibisyonuna sahip olduğu ortaya konuldu. Ayrıca Inula özütünün, referans ilaç ile karşılaştırıldığında ɑ-glukosidaz açısından inhibitör etkiye sahip olduğu belirlendi. Bununla birlikte  oldukça yüksek tirozinaz enzim inhibisyonu gösterdi. Antiproliferatif aktivitesi incelendiğinde, MDA-MB-231 hücre hattında oldukça aktif olduğu bulundu. Sonuç: Bu çalışma, I. aucheriana'nın enzim inhibitör aktivitesi ve antioksidan aktivitesinin ilk araştırmasıdır. Çalışmadan elde edilen verilere göre I. aucheriana'nın etken maddeleri ile daha detaylı çalışmalar yapılabilir ve farklı hastalıkların tedavisi için umut verici sonuçlar alınabilir.\n",
            "31.10.2022\n",
            "Spirogyra aequinoctialis’in Farklı Çözgenler Ile Hazırlanan Ekstraktlarının Antibakteriyal ve Antifungal Etkileri\n",
            "In this study, the antibacterial and antifungal effects of algae species Spirogyra aequinoctialis extracts, which were taken from aquatic environments and brought to the laboratory environment and isolated by using diagnostic methods, on various microorganism species were investigated. Spirogyra extracts were prepared with 0.5 M Tris-HCL pH:8.00, N-butanol and Ethanol. Antimicrobial activities of the extracts were tested on Staphylococcus aureus ATCC 25923, Bacillus subtilis ATCC 6633, Listeria monocytogenes ATCC 7644, Escherichia coli O 157:H7, Pseudomonas aeruginosa ATCC 27853, Salmonella typhimurium ATCC, Candida albicans ATCC 10239 by disc diffusion method. As a result, it was determined that the buffer extract of S. aequinoctialis had highly effective antibacterial properties on Escherichia coli O 157:H7. Staphylococcus aureus ATCC 25923 strain was identified as the most susceptible microorganism, while Pseudomonas aeruginosa ATCC 27853 strain was the most resistant microorganism. It was also noted that the most effective solvent was 0.5 M Tris-HCL pH: 8.00. Antifungal activity tests showed that the ethanol extract of S. aequinoctialis had highly effective antifungal properties on Candida albicans ATCC 10239.\n",
            "31.10.2022\n",
            "Clinopodium serpyllifolium subsp. serpyllifolium Bitkisinin Akciğer Kanseri ve Beyin Glioma Hücre Hatlarında Antikanser, Antiproliferatif ve Apoptotik Hücre Ölümü Üzerine Etkilerinin Araştırılması\n",
            "In this study, it was aimed to investigate cytotoxic, antiproliferative and apoptotic activities of Clinopodium serpyllifolium subsp. serpyllifolium, which grows naturally in the flora of Turkey and has been widely used in traditional folk medicine thanks to its rich phytochemical content. For this purpose, water (dH2O) ve 70% ethanol (C2H5OH-EtOH) extracts were obtained from flower and stems of the plants using different solvents. The activities of different extracts on the anticancer, antiproliferation and DNA damage-based apoptosis activities against A549, H1299, C6 and HUVEC cells using MTT, trypan blue and immunological-based ELISA methods, respectively. It was determined that plant extracts decreased viability of all the cells and induced these cells to die. The extracts showed the highest activity against the A549 lung carcinoma cells, whilst they showed the lowest activity against the C6 brain glioma cells. In conclusion, it is considered that different parts of the C. serpyllifolium should be phytochemically investigated in details, pharmacological and clinical studies ought to be carried out in order to use this plant as anticancer drug source.\n",
            "31.10.2022\n",
            "Investigation of the Biological Activities of Alcea calvertii\n",
            "Herbs are widely used in the treatment of diseases as colds, infections, and cancer. In this work, we evaluate Alcea calvertii, which is a perennial herbaceous plant belonging to the Malvaceae family. It spreads in Anatolia and Mediterranean region and has important uses in terms of ethnobotany. In this study, it was aimed to evaluate the cytotoxic potentials and to investigate the antioxidant activities of methanol, water, chloroform, and ethyl acetate extracts of the aerial parts of Alcea calvertii. For that, the antioxidant activity of Alcea calvertii was determined by four different methods [total phenolic content (TPC), ferric reducing antioxidant power (FRAP), copper reducing antioxidant capacity (CUPRAC) and 2,2-diphenylpicrylhydrazil (DPPH) radical scavenging activity. The cytotoxicity potential of extracts was assessed in the human lung cancer cell line (A549) by MTT assay. It was observed that the highest antioxidant activity was in the methanol extract and the antioxidant activity increased with increasing extract concentration; The TPC values were between 62.5 - 414.6 GAE µg mL-1, the FRAP values were between 115.7 - 1321.4 µM Trolox equivalent g-1, CUPRAC values were between 177.1 - 1321.4 µM Trolox equivalent g-1, and IC50 values in DPPH determination were between 0.0089 - 3.5370 mg mL-1. The extracts caused cytotoxicity in a concentration dependent manner, the IC50 values were calculated to be between 36.8 - 62.64 µg mL-1. It is concluded that Alcea calvertii could be an important herb in developing new drugs.\n",
            "31.10.2022\n",
            "In vitro EVALUATIONS OF ANTIOXIDANT, ANTIMICROBIAL AND ANTICANCER POTENTIAL OF Phytolacca americana L. (POKEWEED) SEED EXTRACT\n",
            "In this study, different parts of Phytolacca americana L. (Pokeweed) fruit from Türkiye were investigated for their antioxidant, antibacterial, antibiofilm and anticancer potentials. The radical scavenging activities, reducing power and total phenolic content were determined to appraise of the antioxidant potentials. The antibacterial and antibiofilm activities of the extracts against Enterococcus faecalis, Yersinia enterocolitica, Staphylococcus aureus, Escherichia coli, Klebsiella pneumoniae, Salmonella typhimurium were evaluated by using agar-well diffusion, minimum inhibitory concentration (MIC) and biofilm inhibitory concentration (BIC) assays. In addition of latening the onset of apoptosis depending on dose, the potential of the anti-proliferative effects was investigated on MDA-MB-231 and MCF-7 cells. The highest free radical scavenging activity and phenolic content were found in the seed extract. Seed extract showed the highest inhibition zones and significant antibacterial activity at 2.5-5 mg/mL MIC concentrations against tested bacterial strains. More significantly, seed extract was found effective on inhibition of early phase biofilm formation at 2.5-10 mg/mL. BIC concentrations against tested bacterial strains. Next, the main mechanisms of cell death of the seed extract in MDA-MB-231 and MCF-7 cells were investigated. Accordingly, when apoptosis was evaluated morphologically, late apoptosis was observed in cells that showed both Hoechst 33342 and Propidium Iodide (PI) positivity in a dose-dependent manner. This study showed that P. americana seed extract can contribute to alternative medicine studies and have potential power in pharmaceutical industry.\n",
            "01.10.2022\n",
            "BIOLOGICAL ACTIVITY EVALUATION OF THREE Hypericum L. SPECIES\n",
            "This study was performed in order to evaluate in vitro antioxidant, anti-Trichomonas vaginalis, antimicrobial and cytotoxic activities of methanol extracts of aerial parts of Hypericum perforatum L., H. thymbrifolium Boiss. & Noë and H. thymopsis Boiss. The antioxidant activity of methanol extracts was tested with 2,2-diphenyl-1-picrylhydrazyl (DPPH), 2,2′-azino-bis(3-ethylbenzothiazoline-6-sulfonic acid) (ABTS) radical scavenging and iron chelating assays. The total phenol and flavonoid contents were also determined spectrophotometrically. Cytotoxicity and apoptosis were evaluated on MCF-7 breast cancer and PC3 prostate cancer cell line. Antimicrobial activities were evaluated by the microdilution method on the bacterial strains Staphylococcus aureus (ATCC 29213), Enterococcus faecalis (ATCC 29212), Pseudomonas aeruginosa (ATCC 27853) Escherichia coli (ATCC 25922) and the fungal strain Candida albicans (ATCC 10231). All extracts demonstrated cytotoxic activity on PC3 prostat cancer cell line with a concentration dependent manner, while H. thymopsis extract was the most active against cancer cell growth. The obtained results of the present study revealed that the methanol extract of H. perforatum, H. thymbrifolium and H. thymopsis have significant antioxidant and cytotoxic activities. The results provided the basic research data for further phytochemical and biological activity guided investigations on these species for identication and isolation of potential drug active compounds.\n",
            "01.10.2022\n",
            "26.96518564224243\n"
          ]
        }
      ]
    },
    {
      "cell_type": "code",
      "source": [
        "# f = open(\"deneme.csv\")\n",
        "# f.read()\n",
        "# print(f\n",
        "# f.close()\n",
        "\n",
        "with open(\"deneme.csv\") as f:\n",
        "    print(f.read())"
      ],
      "metadata": {
        "id": "wiaJyIfBdeQW"
      },
      "execution_count": null,
      "outputs": []
    },
    {
      "cell_type": "code",
      "source": [
        "pip install pandas"
      ],
      "metadata": {
        "id": "3JP1GAlgkofn",
        "colab": {
          "base_uri": "https://localhost:8080/"
        },
        "outputId": "5a0f6f8f-ec62-4a7f-fc4e-68f49d0403c0"
      },
      "execution_count": 109,
      "outputs": [
        {
          "output_type": "stream",
          "name": "stdout",
          "text": [
            "Looking in indexes: https://pypi.org/simple, https://us-python.pkg.dev/colab-wheels/public/simple/\n",
            "Requirement already satisfied: pandas in /usr/local/lib/python3.7/dist-packages (1.3.5)\n",
            "Requirement already satisfied: numpy>=1.17.3 in /usr/local/lib/python3.7/dist-packages (from pandas) (1.21.6)\n",
            "Requirement already satisfied: python-dateutil>=2.7.3 in /usr/local/lib/python3.7/dist-packages (from pandas) (2.8.2)\n",
            "Requirement already satisfied: pytz>=2017.3 in /usr/local/lib/python3.7/dist-packages (from pandas) (2022.2.1)\n",
            "Requirement already satisfied: six>=1.5 in /usr/local/lib/python3.7/dist-packages (from python-dateutil>=2.7.3->pandas) (1.15.0)\n"
          ]
        }
      ]
    },
    {
      "cell_type": "code",
      "source": [
        "calisan_listesi= {\"isim\":[\"oguzhan\",\"ozgur\",\"yigit\",\"okan\",\"berkay\"],\n",
        "                  \"yas\":[22,21,25,20,17],\n",
        "                   \"maas\":[5000,4000,9000,2500,1000]}\n",
        "\n",
        "dataframe = pd.DataFrame(calisan_listesi)\n",
        "dataframe.head()"
      ],
      "metadata": {
        "colab": {
          "base_uri": "https://localhost:8080/",
          "height": 206
        },
        "id": "bAXEJafmkpUB",
        "outputId": "32d4f588-4f34-4a00-c650-ca2377711a10"
      },
      "execution_count": null,
      "outputs": [
        {
          "output_type": "execute_result",
          "data": {
            "text/plain": [
              "      isim\n",
              "0  oguzhan\n",
              "1    ozgur\n",
              "2    yigit\n",
              "3     okan\n",
              "4   berkay"
            ],
            "text/html": [
              "\n",
              "  <div id=\"df-8c808b72-d7dd-4de2-a4f4-39a8017e162a\">\n",
              "    <div class=\"colab-df-container\">\n",
              "      <div>\n",
              "<style scoped>\n",
              "    .dataframe tbody tr th:only-of-type {\n",
              "        vertical-align: middle;\n",
              "    }\n",
              "\n",
              "    .dataframe tbody tr th {\n",
              "        vertical-align: top;\n",
              "    }\n",
              "\n",
              "    .dataframe thead th {\n",
              "        text-align: right;\n",
              "    }\n",
              "</style>\n",
              "<table border=\"1\" class=\"dataframe\">\n",
              "  <thead>\n",
              "    <tr style=\"text-align: right;\">\n",
              "      <th></th>\n",
              "      <th>isim</th>\n",
              "    </tr>\n",
              "  </thead>\n",
              "  <tbody>\n",
              "    <tr>\n",
              "      <th>0</th>\n",
              "      <td>oguzhan</td>\n",
              "    </tr>\n",
              "    <tr>\n",
              "      <th>1</th>\n",
              "      <td>ozgur</td>\n",
              "    </tr>\n",
              "    <tr>\n",
              "      <th>2</th>\n",
              "      <td>yigit</td>\n",
              "    </tr>\n",
              "    <tr>\n",
              "      <th>3</th>\n",
              "      <td>okan</td>\n",
              "    </tr>\n",
              "    <tr>\n",
              "      <th>4</th>\n",
              "      <td>berkay</td>\n",
              "    </tr>\n",
              "  </tbody>\n",
              "</table>\n",
              "</div>\n",
              "      <button class=\"colab-df-convert\" onclick=\"convertToInteractive('df-8c808b72-d7dd-4de2-a4f4-39a8017e162a')\"\n",
              "              title=\"Convert this dataframe to an interactive table.\"\n",
              "              style=\"display:none;\">\n",
              "        \n",
              "  <svg xmlns=\"http://www.w3.org/2000/svg\" height=\"24px\"viewBox=\"0 0 24 24\"\n",
              "       width=\"24px\">\n",
              "    <path d=\"M0 0h24v24H0V0z\" fill=\"none\"/>\n",
              "    <path d=\"M18.56 5.44l.94 2.06.94-2.06 2.06-.94-2.06-.94-.94-2.06-.94 2.06-2.06.94zm-11 1L8.5 8.5l.94-2.06 2.06-.94-2.06-.94L8.5 2.5l-.94 2.06-2.06.94zm10 10l.94 2.06.94-2.06 2.06-.94-2.06-.94-.94-2.06-.94 2.06-2.06.94z\"/><path d=\"M17.41 7.96l-1.37-1.37c-.4-.4-.92-.59-1.43-.59-.52 0-1.04.2-1.43.59L10.3 9.45l-7.72 7.72c-.78.78-.78 2.05 0 2.83L4 21.41c.39.39.9.59 1.41.59.51 0 1.02-.2 1.41-.59l7.78-7.78 2.81-2.81c.8-.78.8-2.07 0-2.86zM5.41 20L4 18.59l7.72-7.72 1.47 1.35L5.41 20z\"/>\n",
              "  </svg>\n",
              "      </button>\n",
              "      \n",
              "  <style>\n",
              "    .colab-df-container {\n",
              "      display:flex;\n",
              "      flex-wrap:wrap;\n",
              "      gap: 12px;\n",
              "    }\n",
              "\n",
              "    .colab-df-convert {\n",
              "      background-color: #E8F0FE;\n",
              "      border: none;\n",
              "      border-radius: 50%;\n",
              "      cursor: pointer;\n",
              "      display: none;\n",
              "      fill: #1967D2;\n",
              "      height: 32px;\n",
              "      padding: 0 0 0 0;\n",
              "      width: 32px;\n",
              "    }\n",
              "\n",
              "    .colab-df-convert:hover {\n",
              "      background-color: #E2EBFA;\n",
              "      box-shadow: 0px 1px 2px rgba(60, 64, 67, 0.3), 0px 1px 3px 1px rgba(60, 64, 67, 0.15);\n",
              "      fill: #174EA6;\n",
              "    }\n",
              "\n",
              "    [theme=dark] .colab-df-convert {\n",
              "      background-color: #3B4455;\n",
              "      fill: #D2E3FC;\n",
              "    }\n",
              "\n",
              "    [theme=dark] .colab-df-convert:hover {\n",
              "      background-color: #434B5C;\n",
              "      box-shadow: 0px 1px 3px 1px rgba(0, 0, 0, 0.15);\n",
              "      filter: drop-shadow(0px 1px 2px rgba(0, 0, 0, 0.3));\n",
              "      fill: #FFFFFF;\n",
              "    }\n",
              "  </style>\n",
              "\n",
              "      <script>\n",
              "        const buttonEl =\n",
              "          document.querySelector('#df-8c808b72-d7dd-4de2-a4f4-39a8017e162a button.colab-df-convert');\n",
              "        buttonEl.style.display =\n",
              "          google.colab.kernel.accessAllowed ? 'block' : 'none';\n",
              "\n",
              "        async function convertToInteractive(key) {\n",
              "          const element = document.querySelector('#df-8c808b72-d7dd-4de2-a4f4-39a8017e162a');\n",
              "          const dataTable =\n",
              "            await google.colab.kernel.invokeFunction('convertToInteractive',\n",
              "                                                     [key], {});\n",
              "          if (!dataTable) return;\n",
              "\n",
              "          const docLinkHtml = 'Like what you see? Visit the ' +\n",
              "            '<a target=\"_blank\" href=https://colab.research.google.com/notebooks/data_table.ipynb>data table notebook</a>'\n",
              "            + ' to learn more about interactive tables.';\n",
              "          element.innerHTML = '';\n",
              "          dataTable['output_type'] = 'display_data';\n",
              "          await google.colab.output.renderOutput(dataTable, element);\n",
              "          const docLink = document.createElement('div');\n",
              "          docLink.innerHTML = docLinkHtml;\n",
              "          element.appendChild(docLink);\n",
              "        }\n",
              "      </script>\n",
              "    </div>\n",
              "  </div>\n",
              "  "
            ]
          },
          "metadata": {},
          "execution_count": 181
        }
      ]
    },
    {
      "cell_type": "code",
      "source": [
        "df=pd.read_csv(\"deneme.csv\")\n",
        "\n",
        "  # df.head()\n",
        "  # df.isnull().sum()\n",
        "  # df.columns\n",
        "  # df[[\"link\",\"maincategory\"]].head()\n",
        "  # df.dropna(axis=\"columns\",how=\"any\").shape\n",
        "# df.loc[[50]]\n",
        "# df.Genre.describe()\n",
        "df.columns\n"
      ],
      "metadata": {
        "colab": {
          "base_uri": "https://localhost:8080/"
        },
        "id": "Rj1ICXSZradU",
        "outputId": "33103c99-eb09-4bae-80b1-f87efbc55dd3"
      },
      "execution_count": 110,
      "outputs": [
        {
          "output_type": "execute_result",
          "data": {
            "text/plain": [
              "Index(['link', 'tarih', 'maincategory', 'category', 'baslik', 'content'], dtype='object')"
            ]
          },
          "metadata": {},
          "execution_count": 110
        }
      ]
    },
    {
      "cell_type": "code",
      "source": [
        "df.isnull().sum()"
      ],
      "metadata": {
        "colab": {
          "base_uri": "https://localhost:8080/"
        },
        "id": "zxuiAQ1qXUIW",
        "outputId": "c07d7313-d96a-44e3-9419-583eced5d27e"
      },
      "execution_count": 111,
      "outputs": [
        {
          "output_type": "execute_result",
          "data": {
            "text/plain": [
              "link             0\n",
              "tarih            0\n",
              "maincategory     0\n",
              "category         0\n",
              "baslik           0\n",
              "content         10\n",
              "dtype: int64"
            ]
          },
          "metadata": {},
          "execution_count": 111
        }
      ]
    },
    {
      "cell_type": "code",
      "source": [
        "df.shape"
      ],
      "metadata": {
        "colab": {
          "base_uri": "https://localhost:8080/"
        },
        "id": "t1-8_OdZW8tk",
        "outputId": "a82b9c6e-41c6-496a-bbca-537ffb1638a1"
      },
      "execution_count": 114,
      "outputs": [
        {
          "output_type": "execute_result",
          "data": {
            "text/plain": [
              "(190, 6)"
            ]
          },
          "metadata": {},
          "execution_count": 114
        }
      ]
    },
    {
      "cell_type": "code",
      "source": [
        "df.dtypes"
      ],
      "metadata": {
        "colab": {
          "base_uri": "https://localhost:8080/"
        },
        "id": "oMMONSN6b6kW",
        "outputId": "f7bf0f0d-e1e5-4fb2-fb9b-78024680b70d"
      },
      "execution_count": 115,
      "outputs": [
        {
          "output_type": "execute_result",
          "data": {
            "text/plain": [
              "link            object\n",
              "tarih           object\n",
              "maincategory    object\n",
              "category        object\n",
              "baslik          object\n",
              "content         object\n",
              "dtype: object"
            ]
          },
          "metadata": {},
          "execution_count": 115
        }
      ]
    }
  ]
}