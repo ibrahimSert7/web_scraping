{
  "nbformat": 4,
  "nbformat_minor": 0,
  "metadata": {
    "colab": {
      "name": "IndependentNewsAll.ipynb adlı not defterinin kopyası",
      "provenance": [],
      "collapsed_sections": [],
      "authorship_tag": "ABX9TyOm+vyTq+yN7roZ2QwBof/D",
      "include_colab_link": true
    },
    "kernelspec": {
      "name": "python3",
      "display_name": "Python 3"
    },
    "language_info": {
      "name": "python"
    }
  },
  "cells": [
    {
      "cell_type": "markdown",
      "metadata": {
        "id": "view-in-github",
        "colab_type": "text"
      },
      "source": [
        "<a href=\"https://colab.research.google.com/github/ibrahimSert7/web_scraping/blob/main/IndependentNewsAll_ipynb_adl%C4%B1_not_defterinin_kopyas%C4%B1.ipynb\" target=\"_parent\"><img src=\"https://colab.research.google.com/assets/colab-badge.svg\" alt=\"Open In Colab\"/></a>"
      ]
    },
    {
      "cell_type": "code",
      "execution_count": 34,
      "metadata": {
        "id": "pTHQhF4qVgIq"
      },
      "outputs": [],
      "source": [
        "import os\n",
        "import bs4\n",
        "import bs4 as soup\n",
        "import requests\n",
        "from bs4 import BeautifulSoup\n",
        "import pandas as pd\n",
        "import numpy as np\n",
        "import os\n",
        "import time\n",
        "import urllib.request\n",
        "import re\n",
        "import urllib3\n",
        "from pandas import DataFrame\n",
        "import csv\n",
        "import datetime\n",
        "from datetime import datetime, timedelta\n",
        "import os\n",
        "import csv\n",
        "import concurrent\n",
        "import multiprocessing\n",
        "from multiprocessing import pool\n",
        "import io\n",
        "from pprint import pprint"
      ]
    },
    {
      "cell_type": "code",
      "source": [
        "def datecreator():\n",
        "  dizi=[]\n",
        "  ser_date = pd.Series(pd.date_range('19940101', periods=12000))\n",
        "  link=\"https://www.independent.co.uk/archive/\"\n",
        "  for i in range(3225,3230): #10958\n",
        "      dateEnd  = ser_date[i].strftime(\"%Y-%m-%d\")\n",
        "      dizi.append(\"{}{}\".format(link,dateEnd))\n",
        "  return dizi"
      ],
      "metadata": {
        "id": "74yhBK8KVq7P"
      },
      "execution_count": 35,
      "outputs": []
    },
    {
      "cell_type": "code",
      "source": [
        "def get_link(i):\n",
        "     print(i)\n",
        "     r = requests.get(i)   \n",
        "     soup = BeautifulSoup(r.content, 'html5lib')\n",
        "     for a in soup.find_all('a', href=True):\n",
        "       link = a['href']\n",
        "       result = link.endswith(\".html\")\n",
        "       if (result==True):\n",
        "         result2 = link.startswith(\"/service\") or link.startswith(\"/news/world/journalism-license-srmg-middle-east-news-world-global-a9579111.html\")\n",
        "         if (result2==False):\n",
        "           ekle=\"https://www.independent.co.uk\"\n",
        "           link=\"{}{}\".format(ekle,link)\n",
        "           with open(\"independent.txt\", 'a') as file: \n",
        "               file.write(link+'\\n')\n",
        "                   "
      ],
      "metadata": {
        "id": "W6y0Rr-kn_UZ"
      },
      "execution_count": 36,
      "outputs": []
    },
    {
      "cell_type": "code",
      "source": [
        "import datetime"
      ],
      "metadata": {
        "id": "94oLHgaU3xh9"
      },
      "execution_count": 37,
      "outputs": []
    },
    {
      "cell_type": "code",
      "source": [
        "def creator(url):\n",
        "    r = requests.get(url)   \n",
        "    soup = BeautifulSoup(r.content, 'html5lib')\n",
        "    title = soup.find(\"h1\").getText()\n",
        "    content_array = soup.find(\"div\", attrs = {\"class\":\"sc-QRkub\"}).getText()\n",
        "    url2 = url.split(\"/\")\n",
        "    urltut = url2[3] \n",
        "    result = (\"news\"==str(urltut))\n",
        "    if (result==True):\n",
        "      category=urltut\n",
        "    else:\n",
        "      category=url2[3]\n",
        "    date = soup.find(\"div\", attrs = {\"class\":\"sc-iblwXC\"}).getText()\n",
        "    date = date.split()\n",
        "    date = date[3] +\"-\"+ date[2] +\"-\"+ date[1] \n",
        "    date = datetime.datetime.strptime(date,\"%Y-%B-%d\").strftime(\"%Y-%m-%d\")\n",
        "    content_array = content_array.split()\n",
        "    content_string = \"\"\n",
        "    for w in content_array:\n",
        "      stop = \"(function({\"\n",
        "      if(w == stop):\n",
        "        break\n",
        "      else:\n",
        "        content_string = content_string+\" \"+w\n",
        "    w_data=\"{};{};{};{};{}\".format(url,date,category,title,content_string)\n",
        "    with open(\"IndependentContent2.txt\", 'a') as file: \n",
        "        file.write(w_data+'\\n')\n",
        "    print(\"İşlem Başarılı\")    \n",
        "\n",
        "    "
      ],
      "metadata": {
        "id": "6fVB2kDjsLs-"
      },
      "execution_count": 118,
      "outputs": []
    },
    {
      "cell_type": "code",
      "source": [
        "Links = datecreator()\n",
        "\n",
        "t1=time.time()\n",
        "with concurrent.futures.ProcessPoolExecutor() as execut:\n",
        "  b_res=[execut.submit(get_link,i.strip()) for i in Links]\n",
        "\n",
        "\n",
        "print(time.time()-t1)"
      ],
      "metadata": {
        "colab": {
          "base_uri": "https://localhost:8080/"
        },
        "id": "0TfyaVLd-931",
        "outputId": "433dd8b1-ecf4-4445-cc8a-c037fef560c9"
      },
      "execution_count": 39,
      "outputs": [
        {
          "output_type": "stream",
          "name": "stdout",
          "text": [
            "https://www.independent.co.uk/archive/2002-10-31\n",
            "https://www.independent.co.uk/archive/2002-11-01\n",
            "https://www.independent.co.uk/archive/2002-11-02\n",
            "https://www.independent.co.uk/archive/2002-11-03\n",
            "https://www.independent.co.uk/archive/2002-11-04\n",
            "2.0703701972961426\n"
          ]
        }
      ]
    },
    {
      "cell_type": "code",
      "source": [
        "Linknews=[]\n",
        "with open(\"independent.txt\",'r',newline='') as f:\n",
        "  for i in f.readlines():    \n",
        "   Linknews.append(i)\n",
        "\n",
        "t1=time.time()\n",
        "\n",
        "with concurrent.futures.ProcessPoolExecutor() as execut:\n",
        "  b_res=[execut.submit(creator,i.strip()) for i in Linknews]\n",
        "\n",
        "print(time.time()-t1)"
      ],
      "metadata": {
        "id": "vVO38_LL-91c",
        "colab": {
          "base_uri": "https://localhost:8080/"
        },
        "outputId": "2d4e5d1d-eb1b-4ecf-daef-3fcf58ae0caa"
      },
      "execution_count": 40,
      "outputs": [
        {
          "output_type": "stream",
          "name": "stdout",
          "text": [
            "558.508843421936\n"
          ]
        }
      ]
    }
  ]
}